{
 "cells": [
  {
   "cell_type": "markdown",
   "metadata": {},
   "source": [
    "#### Выбор метрик\n",
    "\n",
    "Для принятия решения нужно учесть несколько метрик. По моему мнению, для бизнеса в данной ситуации основной метрикой является средяя выручка.\n",
    "\n",
    "**Целевая метрика:**  \n",
    "* средняя выручка  \n",
    "\n",
    "**Прокси метрики:**  \n",
    "* средний чек заказа;  \n",
    "* среднее количество заказов;  \n",
    "* среднее количество отмененных заказов; \n",
    "* среднее количество уникальных товаров в заказе.  \n",
    "\n",
    "**Группа 0 (контрольная группа)** — пользователи со старой версией приложения, где нет рекомендации товаров.  \n",
    "**Группа 1 (экспериментальная группа)** —  пользователи с новой системой рекомендаций."
   ]
  },
  {
   "cell_type": "markdown",
   "metadata": {},
   "source": [
    "### Проведу EDA"
   ]
  },
  {
   "cell_type": "markdown",
   "metadata": {},
   "source": [
    "Импортирую необходимые для работы библиотеки, считываю данные, формирую датафреймы"
   ]
  },
  {
   "cell_type": "code",
   "execution_count": 1,
   "metadata": {},
   "outputs": [],
   "source": [
    "import pandas as pd\n",
    "import numpy as np\n",
    "import seaborn as sns\n",
    "import scipy.stats as st\n",
    "import pingouin as pg\n",
    "from matplotlib import pyplot as plt\n",
    "# Отключаю предупреждения\n",
    "import warnings\n",
    "warnings.filterwarnings(\"ignore\")"
   ]
  },
  {
   "cell_type": "markdown",
   "metadata": {},
   "source": [
    "#### users_data_df — хранит историю заказов пользователей  \n",
    "- **user_id**\t— уникальный id пользователя;  \n",
    "- **order_id** — уникальный id заказа;  \n",
    "- **action** — действие c заказом (create_order, cancel_order);  \n",
    "- **time** — дата и время действия;  \n",
    "- **date** — только дата действия;  \n",
    "- **group** — номер группы к которой относится пользователь."
   ]
  },
  {
   "cell_type": "code",
   "execution_count": 2,
   "metadata": {},
   "outputs": [],
   "source": [
    "users_data_df = pd.read_csv(\"./data/ab_users_data.csv\")"
   ]
  },
  {
   "cell_type": "code",
   "execution_count": 3,
   "metadata": {},
   "outputs": [
    {
     "data": {
      "text/html": [
       "<div>\n",
       "<style scoped>\n",
       "    .dataframe tbody tr th:only-of-type {\n",
       "        vertical-align: middle;\n",
       "    }\n",
       "\n",
       "    .dataframe tbody tr th {\n",
       "        vertical-align: top;\n",
       "    }\n",
       "\n",
       "    .dataframe thead th {\n",
       "        text-align: right;\n",
       "    }\n",
       "</style>\n",
       "<table border=\"1\" class=\"dataframe\">\n",
       "  <thead>\n",
       "    <tr style=\"text-align: right;\">\n",
       "      <th></th>\n",
       "      <th>user_id</th>\n",
       "      <th>order_id</th>\n",
       "      <th>action</th>\n",
       "      <th>time</th>\n",
       "      <th>date</th>\n",
       "      <th>group</th>\n",
       "    </tr>\n",
       "  </thead>\n",
       "  <tbody>\n",
       "    <tr>\n",
       "      <th>0</th>\n",
       "      <td>964</td>\n",
       "      <td>1255</td>\n",
       "      <td>create_order</td>\n",
       "      <td>2022-08-26 00:00:19.000000</td>\n",
       "      <td>2022-08-26</td>\n",
       "      <td>0</td>\n",
       "    </tr>\n",
       "    <tr>\n",
       "      <th>1</th>\n",
       "      <td>965</td>\n",
       "      <td>1256</td>\n",
       "      <td>create_order</td>\n",
       "      <td>2022-08-26 00:02:21.000000</td>\n",
       "      <td>2022-08-26</td>\n",
       "      <td>1</td>\n",
       "    </tr>\n",
       "    <tr>\n",
       "      <th>2</th>\n",
       "      <td>964</td>\n",
       "      <td>1257</td>\n",
       "      <td>create_order</td>\n",
       "      <td>2022-08-26 00:02:27.000000</td>\n",
       "      <td>2022-08-26</td>\n",
       "      <td>0</td>\n",
       "    </tr>\n",
       "    <tr>\n",
       "      <th>3</th>\n",
       "      <td>966</td>\n",
       "      <td>1258</td>\n",
       "      <td>create_order</td>\n",
       "      <td>2022-08-26 00:02:56.000000</td>\n",
       "      <td>2022-08-26</td>\n",
       "      <td>0</td>\n",
       "    </tr>\n",
       "    <tr>\n",
       "      <th>4</th>\n",
       "      <td>967</td>\n",
       "      <td>1259</td>\n",
       "      <td>create_order</td>\n",
       "      <td>2022-08-26 00:03:37.000000</td>\n",
       "      <td>2022-08-26</td>\n",
       "      <td>1</td>\n",
       "    </tr>\n",
       "  </tbody>\n",
       "</table>\n",
       "</div>"
      ],
      "text/plain": [
       "   user_id  order_id        action                        time        date  \\\n",
       "0      964      1255  create_order  2022-08-26 00:00:19.000000  2022-08-26   \n",
       "1      965      1256  create_order  2022-08-26 00:02:21.000000  2022-08-26   \n",
       "2      964      1257  create_order  2022-08-26 00:02:27.000000  2022-08-26   \n",
       "3      966      1258  create_order  2022-08-26 00:02:56.000000  2022-08-26   \n",
       "4      967      1259  create_order  2022-08-26 00:03:37.000000  2022-08-26   \n",
       "\n",
       "   group  \n",
       "0      0  \n",
       "1      1  \n",
       "2      0  \n",
       "3      0  \n",
       "4      1  "
      ]
     },
     "execution_count": 3,
     "metadata": {},
     "output_type": "execute_result"
    }
   ],
   "source": [
    "# Посмотрю на первые 5 строк DF\n",
    "users_data_df.head()"
   ]
  },
  {
   "cell_type": "code",
   "execution_count": 4,
   "metadata": {},
   "outputs": [
    {
     "name": "stdout",
     "output_type": "stream",
     "text": [
      "\u001b[1m users_data_df состоит из 6 колонок и 4337 строк \u001b[0m\n"
     ]
    }
   ],
   "source": [
    "print(f'\\033[1m users_data_df состоит из {users_data_df.shape[1]} колонок и {users_data_df.shape[0]} строк \\033[0m')"
   ]
  },
  {
   "cell_type": "code",
   "execution_count": 5,
   "metadata": {},
   "outputs": [
    {
     "name": "stdout",
     "output_type": "stream",
     "text": [
      "<class 'pandas.core.frame.DataFrame'>\n",
      "RangeIndex: 4337 entries, 0 to 4336\n",
      "Data columns (total 6 columns):\n",
      " #   Column    Non-Null Count  Dtype \n",
      "---  ------    --------------  ----- \n",
      " 0   user_id   4337 non-null   int64 \n",
      " 1   order_id  4337 non-null   int64 \n",
      " 2   action    4337 non-null   object\n",
      " 3   time      4337 non-null   object\n",
      " 4   date      4337 non-null   object\n",
      " 5   group     4337 non-null   int64 \n",
      "dtypes: int64(3), object(3)\n",
      "memory usage: 203.4+ KB\n",
      "\n",
      "\u001b[1mКолонки time и date имеют тип данных object. Желательно перевести их в формат datetime. \u001b[0m\n"
     ]
    }
   ],
   "source": [
    "# Посмотрю на тип данных\n",
    "users_data_df.info()\n",
    "print()\n",
    "print('\\033[1mКолонки time и date имеют тип данных object. Желательно перевести их в формат datetime. \\033[0m')"
   ]
  },
  {
   "cell_type": "code",
   "execution_count": 6,
   "metadata": {},
   "outputs": [],
   "source": [
    "# В колонке time оставляю только время, так как дата дублируется в колонке date. Колонку date перевожу в формат datetime\n",
    "users_data_df['time'] = pd.to_datetime(users_data_df['time']).dt.time\n",
    "users_data_df['date'] = pd.to_datetime(users_data_df['date'], format='%Y-%m-%d')"
   ]
  },
  {
   "cell_type": "code",
   "execution_count": 7,
   "metadata": {},
   "outputs": [
    {
     "name": "stdout",
     "output_type": "stream",
     "text": [
      "\u001b[1m Пропущенные значения отсутствуют. \u001b[0m\n"
     ]
    }
   ],
   "source": [
    "# Посмотрю есть ли пропущенные значения\n",
    "number_of_passes = users_data_df.isnull().sum().sum()\n",
    "\n",
    "if number_of_passes == 0:\n",
    "    print('\\033[1m Пропущенные значения отсутствуют. \\033[0m')\n",
    "else:\n",
    "    print('\\033[1m Присутствуют пропущенные значения! \\033[0m')\n",
    "    print(users_data_df.isnull().sum())"
   ]
  },
  {
   "cell_type": "code",
   "execution_count": 8,
   "metadata": {},
   "outputs": [
    {
     "name": "stdout",
     "output_type": "stream",
     "text": [
      "\u001b[1m Количество дублирующихся строк: 0 \u001b[0m\n"
     ]
    }
   ],
   "source": [
    "# Проверю строки датафрейма на дубли\n",
    "num_duplicates = users_data_df.duplicated().sum()\n",
    "print(f\"\\033[1m Количество дублирующихся строк: {num_duplicates} \\033[0m\")"
   ]
  },
  {
   "cell_type": "code",
   "execution_count": 9,
   "metadata": {},
   "outputs": [
    {
     "name": "stdout",
     "output_type": "stream",
     "text": [
      "\u001b[1m Пересечения user_id не найдены \u001b[0m\n"
     ]
    }
   ],
   "source": [
    "# Проверю что бы каждый user_id был только в одной группе\n",
    "\n",
    "# Создам множества с user_id каждой группы\n",
    "user_id_group0 = set(users_data_df[users_data_df.group == 0].user_id)\n",
    "user_id_group1 = set(users_data_df[users_data_df.group == 1].user_id)\n",
    "\n",
    "# Проверю есть ли пересечения. Если есть, то выведу user_id, которые пересекаются\n",
    "if user_id_group0.isdisjoint(user_id_group1):\n",
    "    print(\"\\033[1m Пересечения user_id не найдены \\033[0m\")\n",
    "else:\n",
    "    print(f\"\\033[1m Имеются пересечения следующих user_id: {user_id_group0.intersection(user_id_group1)}\\033[0m\")"
   ]
  },
  {
   "cell_type": "code",
   "execution_count": 10,
   "metadata": {},
   "outputs": [
    {
     "name": "stdout",
     "output_type": "stream",
     "text": [
      "\u001b[1m Пересечения order_id не найдены \u001b[0m\n"
     ]
    }
   ],
   "source": [
    "# Проверю что бы каждый order_id был только в одной группе\n",
    "\n",
    "# Создам множества с user_id каждой группы\n",
    "order_id_group0 = set(users_data_df[users_data_df.group == 0].order_id)\n",
    "order_id_group1 = set(users_data_df[users_data_df.group == 1].order_id)\n",
    "\n",
    "# Проверю есть ли пересечения. Если есть, то выведу order_id, которые пересекаются\n",
    "if order_id_group0.isdisjoint(order_id_group1):\n",
    "    print(\"\\033[1m Пересечения order_id не найдены \\033[0m\")\n",
    "else:\n",
    "    print(f\"\\033[1m Имеются пересечения следующих order_id: {order_id_group0.intersection(order_id_group1)}\\033[0m\")"
   ]
  },
  {
   "cell_type": "markdown",
   "metadata": {},
   "source": [
    "#### orders_df — информация о составе заказа  \n",
    "* **order_id** — уникальный id заказа;  \n",
    "* **creation_time** — дата и время создания заказа;  \n",
    "* **product_ids** — список id продуктов в заказе (строковые представления)."
   ]
  },
  {
   "cell_type": "code",
   "execution_count": 11,
   "metadata": {},
   "outputs": [],
   "source": [
    "orders_df = pd.read_csv(\"./data/ab_orders.csv\")"
   ]
  },
  {
   "cell_type": "code",
   "execution_count": 12,
   "metadata": {},
   "outputs": [
    {
     "data": {
      "text/html": [
       "<div>\n",
       "<style scoped>\n",
       "    .dataframe tbody tr th:only-of-type {\n",
       "        vertical-align: middle;\n",
       "    }\n",
       "\n",
       "    .dataframe tbody tr th {\n",
       "        vertical-align: top;\n",
       "    }\n",
       "\n",
       "    .dataframe thead th {\n",
       "        text-align: right;\n",
       "    }\n",
       "</style>\n",
       "<table border=\"1\" class=\"dataframe\">\n",
       "  <thead>\n",
       "    <tr style=\"text-align: right;\">\n",
       "      <th></th>\n",
       "      <th>order_id</th>\n",
       "      <th>creation_time</th>\n",
       "      <th>product_ids</th>\n",
       "    </tr>\n",
       "  </thead>\n",
       "  <tbody>\n",
       "    <tr>\n",
       "      <th>0</th>\n",
       "      <td>1255</td>\n",
       "      <td>2022-08-26 00:00:19.000000</td>\n",
       "      <td>{75, 22, 53, 84}</td>\n",
       "    </tr>\n",
       "    <tr>\n",
       "      <th>1</th>\n",
       "      <td>1256</td>\n",
       "      <td>2022-08-26 00:02:21.000000</td>\n",
       "      <td>{56, 76, 39}</td>\n",
       "    </tr>\n",
       "    <tr>\n",
       "      <th>2</th>\n",
       "      <td>1257</td>\n",
       "      <td>2022-08-26 00:02:27.000000</td>\n",
       "      <td>{76, 34, 41, 38}</td>\n",
       "    </tr>\n",
       "    <tr>\n",
       "      <th>3</th>\n",
       "      <td>1258</td>\n",
       "      <td>2022-08-26 00:02:56.000000</td>\n",
       "      <td>{74, 6}</td>\n",
       "    </tr>\n",
       "    <tr>\n",
       "      <th>4</th>\n",
       "      <td>1259</td>\n",
       "      <td>2022-08-26 00:03:37.000000</td>\n",
       "      <td>{20, 45, 67, 26}</td>\n",
       "    </tr>\n",
       "  </tbody>\n",
       "</table>\n",
       "</div>"
      ],
      "text/plain": [
       "   order_id               creation_time       product_ids\n",
       "0      1255  2022-08-26 00:00:19.000000  {75, 22, 53, 84}\n",
       "1      1256  2022-08-26 00:02:21.000000      {56, 76, 39}\n",
       "2      1257  2022-08-26 00:02:27.000000  {76, 34, 41, 38}\n",
       "3      1258  2022-08-26 00:02:56.000000           {74, 6}\n",
       "4      1259  2022-08-26 00:03:37.000000  {20, 45, 67, 26}"
      ]
     },
     "execution_count": 12,
     "metadata": {},
     "output_type": "execute_result"
    }
   ],
   "source": [
    "# Посмотрю на первые 5 строк DF\n",
    "orders_df.head()"
   ]
  },
  {
   "cell_type": "code",
   "execution_count": 13,
   "metadata": {},
   "outputs": [
    {
     "name": "stdout",
     "output_type": "stream",
     "text": [
      "\u001b[1m orders_df состоит из 3 колонок и 4123 строк\u001b[0m\n"
     ]
    }
   ],
   "source": [
    "print(f'\\033[1m orders_df состоит из {orders_df.shape[1]} колонок и {orders_df.shape[0]} строк\\033[0m')"
   ]
  },
  {
   "cell_type": "code",
   "execution_count": 14,
   "metadata": {},
   "outputs": [
    {
     "name": "stdout",
     "output_type": "stream",
     "text": [
      "<class 'pandas.core.frame.DataFrame'>\n",
      "RangeIndex: 4123 entries, 0 to 4122\n",
      "Data columns (total 3 columns):\n",
      " #   Column         Non-Null Count  Dtype \n",
      "---  ------         --------------  ----- \n",
      " 0   order_id       4123 non-null   int64 \n",
      " 1   creation_time  4123 non-null   object\n",
      " 2   product_ids    4123 non-null   object\n",
      "dtypes: int64(1), object(2)\n",
      "memory usage: 96.8+ KB\n",
      "\n",
      "\u001b[1mКолонка creation_time имеет тип данных object, переведу в datetime. \u001b[0m\n",
      "\u001b[1mКолонка product_ids имеет тип данных object, переведу в int64. \u001b[0m\n"
     ]
    }
   ],
   "source": [
    "# Посмотрю на тип данных\n",
    "orders_df.info()\n",
    "print()\n",
    "print('\\033[1mКолонка creation_time имеет тип данных object, переведу в datetime. \\033[0m')\n",
    "print('\\033[1mКолонка product_ids имеет тип данных object, переведу в int64. \\033[0m')"
   ]
  },
  {
   "cell_type": "code",
   "execution_count": 15,
   "metadata": {},
   "outputs": [],
   "source": [
    "# Переведу колонку creation_time в формат datetime\n",
    "orders_df['creation_time'] = pd.to_datetime(orders_df['creation_time'], format=\"%Y-%m-%d %H:%M:%S.%f\")"
   ]
  },
  {
   "cell_type": "code",
   "execution_count": 16,
   "metadata": {},
   "outputs": [],
   "source": [
    "# В product_ids через лямбда функцию убираю {} и разбиваю строку по ', '. Для каждой строки получаю список с id продуктов.\n",
    "orders_df['product_ids'] = orders_df['product_ids'].map(lambda x: x.replace('{', '').replace('}', '').split(', '))\n",
    "\n",
    "# При помощи метода explode разбиваю список с id продуктов на отдельные записи, теперь в одной строке будет только один id продукта. Переименовываю product_ids в product_id\n",
    "orders_df = orders_df.explode('product_ids').rename(columns=({'product_ids': 'product_id'}))\n",
    "\n",
    "# Меняю тип данных для колонки product_id с object на int64 для последующего джойна с ab_products.csv\n",
    "orders_df['product_id'] = orders_df['product_id'].astype('int64')"
   ]
  },
  {
   "cell_type": "code",
   "execution_count": 17,
   "metadata": {},
   "outputs": [
    {
     "data": {
      "text/html": [
       "<div>\n",
       "<style scoped>\n",
       "    .dataframe tbody tr th:only-of-type {\n",
       "        vertical-align: middle;\n",
       "    }\n",
       "\n",
       "    .dataframe tbody tr th {\n",
       "        vertical-align: top;\n",
       "    }\n",
       "\n",
       "    .dataframe thead th {\n",
       "        text-align: right;\n",
       "    }\n",
       "</style>\n",
       "<table border=\"1\" class=\"dataframe\">\n",
       "  <thead>\n",
       "    <tr style=\"text-align: right;\">\n",
       "      <th></th>\n",
       "      <th>order_id</th>\n",
       "      <th>creation_time</th>\n",
       "      <th>product_id</th>\n",
       "    </tr>\n",
       "  </thead>\n",
       "  <tbody>\n",
       "    <tr>\n",
       "      <th>0</th>\n",
       "      <td>1255</td>\n",
       "      <td>2022-08-26 00:00:19</td>\n",
       "      <td>75</td>\n",
       "    </tr>\n",
       "    <tr>\n",
       "      <th>0</th>\n",
       "      <td>1255</td>\n",
       "      <td>2022-08-26 00:00:19</td>\n",
       "      <td>22</td>\n",
       "    </tr>\n",
       "    <tr>\n",
       "      <th>0</th>\n",
       "      <td>1255</td>\n",
       "      <td>2022-08-26 00:00:19</td>\n",
       "      <td>53</td>\n",
       "    </tr>\n",
       "  </tbody>\n",
       "</table>\n",
       "</div>"
      ],
      "text/plain": [
       "   order_id       creation_time  product_id\n",
       "0      1255 2022-08-26 00:00:19          75\n",
       "0      1255 2022-08-26 00:00:19          22\n",
       "0      1255 2022-08-26 00:00:19          53"
      ]
     },
     "execution_count": 17,
     "metadata": {},
     "output_type": "execute_result"
    }
   ],
   "source": [
    "# Посмотрю, что получилось\n",
    "orders_df.head(3)"
   ]
  },
  {
   "cell_type": "code",
   "execution_count": 18,
   "metadata": {},
   "outputs": [
    {
     "name": "stdout",
     "output_type": "stream",
     "text": [
      "\u001b[1m Пропущенные значения отсутствуют \u001b[0m\n"
     ]
    }
   ],
   "source": [
    "# Посмотрю есть ли пропущенные значения\n",
    "number_of_passes = orders_df.isnull().sum().sum()\n",
    "\n",
    "if number_of_passes == 0:\n",
    "    print('\\033[1m Пропущенные значения отсутствуют \\033[0m')\n",
    "else:\n",
    "    print('\\033[1m Присутствуют пропущенные значения! \\033[0m')\n",
    "    print(orders_df.isnull().sum())"
   ]
  },
  {
   "cell_type": "code",
   "execution_count": 19,
   "metadata": {},
   "outputs": [
    {
     "name": "stdout",
     "output_type": "stream",
     "text": [
      "\u001b[1m Количество дублирующихся строк: 276 \u001b[0m\n"
     ]
    }
   ],
   "source": [
    "# Проверю строки датафрейма на дубли\n",
    "num_duplicates = orders_df.duplicated().sum()\n",
    "print(f\"\\033[1m Количество дублирующихся строк: {num_duplicates} \\033[0m\")"
   ]
  },
  {
   "cell_type": "code",
   "execution_count": 20,
   "metadata": {},
   "outputs": [
    {
     "data": {
      "text/html": [
       "<div>\n",
       "<style scoped>\n",
       "    .dataframe tbody tr th:only-of-type {\n",
       "        vertical-align: middle;\n",
       "    }\n",
       "\n",
       "    .dataframe tbody tr th {\n",
       "        vertical-align: top;\n",
       "    }\n",
       "\n",
       "    .dataframe thead th {\n",
       "        text-align: right;\n",
       "    }\n",
       "</style>\n",
       "<table border=\"1\" class=\"dataframe\">\n",
       "  <thead>\n",
       "    <tr style=\"text-align: right;\">\n",
       "      <th></th>\n",
       "      <th>order_id</th>\n",
       "      <th>creation_time</th>\n",
       "      <th>product_id</th>\n",
       "    </tr>\n",
       "  </thead>\n",
       "  <tbody>\n",
       "    <tr>\n",
       "      <th>13</th>\n",
       "      <td>1269</td>\n",
       "      <td>2022-08-26 00:12:58</td>\n",
       "      <td>67</td>\n",
       "    </tr>\n",
       "    <tr>\n",
       "      <th>13</th>\n",
       "      <td>1269</td>\n",
       "      <td>2022-08-26 00:12:58</td>\n",
       "      <td>67</td>\n",
       "    </tr>\n",
       "    <tr>\n",
       "      <th>32</th>\n",
       "      <td>1293</td>\n",
       "      <td>2022-08-26 00:37:46</td>\n",
       "      <td>17</td>\n",
       "    </tr>\n",
       "    <tr>\n",
       "      <th>32</th>\n",
       "      <td>1293</td>\n",
       "      <td>2022-08-26 00:37:46</td>\n",
       "      <td>17</td>\n",
       "    </tr>\n",
       "    <tr>\n",
       "      <th>34</th>\n",
       "      <td>1295</td>\n",
       "      <td>2022-08-26 00:38:23</td>\n",
       "      <td>34</td>\n",
       "    </tr>\n",
       "  </tbody>\n",
       "</table>\n",
       "</div>"
      ],
      "text/plain": [
       "    order_id       creation_time  product_id\n",
       "13      1269 2022-08-26 00:12:58          67\n",
       "13      1269 2022-08-26 00:12:58          67\n",
       "32      1293 2022-08-26 00:37:46          17\n",
       "32      1293 2022-08-26 00:37:46          17\n",
       "34      1295 2022-08-26 00:38:23          34"
      ]
     },
     "execution_count": 20,
     "metadata": {},
     "output_type": "execute_result"
    }
   ],
   "source": [
    "# Имеются дубли, посмотрю подробнее\n",
    "orders_df[orders_df.duplicated(keep=False)].head()"
   ]
  },
  {
   "attachments": {
    "7391beb7-a086-4bf8-9054-c5013cc1d944.png": {
     "image/png": "[encoded data removed]"
    }
   },
   "cell_type": "markdown",
   "metadata": {},
   "source": [
    "Вижу, что дубли связаны с тем, что в одном заказе (order_id) может быть несколько одинаковых товаров. Поэтому их можно игнорировать.  \n",
    "Для примера возьму order_id 1269, 1293 и посмотрю в исходный датафрейм, что бы в этом убедиться.  \n",
    "\n",
    "![image.png](attachment:7391beb7-a086-4bf8-9054-c5013cc1d944.png)"
   ]
  },
  {
   "cell_type": "markdown",
   "metadata": {},
   "source": [
    "#### products_df — данные о продуктах\n",
    "* **product_id** — уникальный id продукта;<br>\n",
    "* **name** — наименование продукта;<br>\n",
    "* **price** — стоимость продукта."
   ]
  },
  {
   "cell_type": "code",
   "execution_count": 21,
   "metadata": {
    "scrolled": true
   },
   "outputs": [],
   "source": [
    "products_df = pd.read_csv(\"./data/ab_products.csv\")"
   ]
  },
  {
   "cell_type": "code",
   "execution_count": 22,
   "metadata": {},
   "outputs": [
    {
     "data": {
      "text/html": [
       "<div>\n",
       "<style scoped>\n",
       "    .dataframe tbody tr th:only-of-type {\n",
       "        vertical-align: middle;\n",
       "    }\n",
       "\n",
       "    .dataframe tbody tr th {\n",
       "        vertical-align: top;\n",
       "    }\n",
       "\n",
       "    .dataframe thead th {\n",
       "        text-align: right;\n",
       "    }\n",
       "</style>\n",
       "<table border=\"1\" class=\"dataframe\">\n",
       "  <thead>\n",
       "    <tr style=\"text-align: right;\">\n",
       "      <th></th>\n",
       "      <th>product_id</th>\n",
       "      <th>name</th>\n",
       "      <th>price</th>\n",
       "    </tr>\n",
       "  </thead>\n",
       "  <tbody>\n",
       "    <tr>\n",
       "      <th>0</th>\n",
       "      <td>1</td>\n",
       "      <td>сахар</td>\n",
       "      <td>150.0</td>\n",
       "    </tr>\n",
       "    <tr>\n",
       "      <th>1</th>\n",
       "      <td>2</td>\n",
       "      <td>чай зеленый в пакетиках</td>\n",
       "      <td>50.0</td>\n",
       "    </tr>\n",
       "    <tr>\n",
       "      <th>2</th>\n",
       "      <td>3</td>\n",
       "      <td>вода негазированная</td>\n",
       "      <td>80.4</td>\n",
       "    </tr>\n",
       "    <tr>\n",
       "      <th>3</th>\n",
       "      <td>4</td>\n",
       "      <td>леденцы</td>\n",
       "      <td>45.5</td>\n",
       "    </tr>\n",
       "    <tr>\n",
       "      <th>4</th>\n",
       "      <td>5</td>\n",
       "      <td>кофе 3 в 1</td>\n",
       "      <td>15.0</td>\n",
       "    </tr>\n",
       "  </tbody>\n",
       "</table>\n",
       "</div>"
      ],
      "text/plain": [
       "   product_id                     name  price\n",
       "0           1                    сахар  150.0\n",
       "1           2  чай зеленый в пакетиках   50.0\n",
       "2           3      вода негазированная   80.4\n",
       "3           4                  леденцы   45.5\n",
       "4           5               кофе 3 в 1   15.0"
      ]
     },
     "execution_count": 22,
     "metadata": {},
     "output_type": "execute_result"
    }
   ],
   "source": [
    "# Посмотрю на первые 5 строк DF\n",
    "products_df.head()"
   ]
  },
  {
   "cell_type": "code",
   "execution_count": 23,
   "metadata": {},
   "outputs": [
    {
     "name": "stdout",
     "output_type": "stream",
     "text": [
      "\u001b[1m products_df состоит из 3 колонок и 87 строк\u001b[0m\n"
     ]
    }
   ],
   "source": [
    "print(f'\\033[1m products_df состоит из {products_df.shape[1]} колонок и {products_df.shape[0]} строк\\033[0m')"
   ]
  },
  {
   "cell_type": "code",
   "execution_count": 24,
   "metadata": {},
   "outputs": [
    {
     "name": "stdout",
     "output_type": "stream",
     "text": [
      "<class 'pandas.core.frame.DataFrame'>\n",
      "RangeIndex: 87 entries, 0 to 86\n",
      "Data columns (total 3 columns):\n",
      " #   Column      Non-Null Count  Dtype  \n",
      "---  ------      --------------  -----  \n",
      " 0   product_id  87 non-null     int64  \n",
      " 1   name        87 non-null     object \n",
      " 2   price       87 non-null     float64\n",
      "dtypes: float64(1), int64(1), object(1)\n",
      "memory usage: 2.2+ KB\n",
      "\n",
      "\u001b[1m Все колонки имеют корректный тип данных \u001b[0m\n"
     ]
    }
   ],
   "source": [
    "# Посмотрю на тип данных\n",
    "products_df.info()\n",
    "print()\n",
    "print('\\033[1m Все колонки имеют корректный тип данных \\033[0m')"
   ]
  },
  {
   "cell_type": "code",
   "execution_count": 25,
   "metadata": {},
   "outputs": [
    {
     "name": "stdout",
     "output_type": "stream",
     "text": [
      "\u001b[1m Пропущенные значения отсутствуют \u001b[0m\n"
     ]
    }
   ],
   "source": [
    "# Посмотрю есть ли пропущенные значения\n",
    "number_of_passes = products_df.isnull().sum().sum()\n",
    "\n",
    "if number_of_passes == 0:\n",
    "    print('\\033[1m Пропущенные значения отсутствуют \\033[0m')\n",
    "else:\n",
    "    print('\\033[1m Присутствуют пропущенные значения! \\033[0m')\n",
    "    print(orders_df.isnull().sum())"
   ]
  },
  {
   "cell_type": "code",
   "execution_count": 26,
   "metadata": {},
   "outputs": [
    {
     "name": "stdout",
     "output_type": "stream",
     "text": [
      "\u001b[1m Количество дублирующихся строк: 0 \u001b[0m\n"
     ]
    }
   ],
   "source": [
    "# Проверю строки датафрейма на дубли\n",
    "num_duplicates = products_df.duplicated().sum()\n",
    "print(f\"\\033[1m Количество дублирующихся строк: {num_duplicates} \\033[0m\")"
   ]
  },
  {
   "cell_type": "markdown",
   "metadata": {},
   "source": [
    "### Сформирую DF с которыми буду работать\n",
    "* **data_and_orders_df** — промежуточный DF состоящий из <i>users_data_df</i> и <i>orders_df</i>\n",
    "* **cancel_orders_id** — список с order_id отмененных заказов\n",
    "* **not_cancel_ordrs_df** — DF с заказами, которые не были отменены\n",
    "* **all_df** — объедененный DF состоящий из <i>users_data_df</i>, <i>orders_df</i> и <i>products_df</i>"
   ]
  },
  {
   "cell_type": "code",
   "execution_count": 27,
   "metadata": {},
   "outputs": [],
   "source": [
    "# Сджойню users_data_df и orders_df\n",
    "data_and_orders_df = users_data_df.merge(orders_df, on='order_id')"
   ]
  },
  {
   "cell_type": "code",
   "execution_count": 28,
   "metadata": {},
   "outputs": [],
   "source": [
    "# Сджойню data_and_orders_df и products_df\n",
    "all_df = data_and_orders_df.merge(products_df, on='product_id')"
   ]
  },
  {
   "cell_type": "code",
   "execution_count": 29,
   "metadata": {},
   "outputs": [],
   "source": [
    "# Сформирую список с order_id отмененных заказов\n",
    "cancel_orders_id = all_df.query(\"action == 'cancel_order'\")['order_id'].unique()"
   ]
  },
  {
   "cell_type": "code",
   "execution_count": 30,
   "metadata": {},
   "outputs": [],
   "source": [
    "# DF с заказами, которые не были отменены\n",
    "not_cancel_ordrs_df = all_df.query(\"order_id not in @cancel_orders_id\")"
   ]
  },
  {
   "cell_type": "code",
   "execution_count": 31,
   "metadata": {},
   "outputs": [],
   "source": [
    "# Функция для проверки тяжести хвоста. В дальнейшем пригодится в тестах\n",
    "def check_tail_heaviness(data, alpha=0.05):\n",
    "    ks_stat, ks_p = st.kstest(data, 'norm')\n",
    "    if ks_p < alpha:\n",
    "        print(f'\\033[1m Данные имеют тяжелый хвост (p-value: {ks_p}) \\033[0m')\n",
    "    else:\n",
    "        print(f'\\033[1m Данные имеют легкий хвост (p-value: {ks_p}) \\033[0m')"
   ]
  },
  {
   "cell_type": "markdown",
   "metadata": {},
   "source": [
    "# Прокси метрики"
   ]
  },
  {
   "cell_type": "markdown",
   "metadata": {},
   "source": [
    "## Test #1 (средний чек заказа)\n",
    "**Посмотрю на средний чек заказа в обеих группах (не учитывая отмененные order_id)**  "
   ]
  },
  {
   "cell_type": "code",
   "execution_count": 32,
   "metadata": {},
   "outputs": [
    {
     "name": "stdout",
     "output_type": "stream",
     "text": [
      "          aov\n",
      "group        \n",
      "0      382.09\n",
      "1      368.86\n",
      "\n",
      "\u001b[1mЕсть различия, у контрольной группы средний чек заказа больще на 3.6 %. При помощи статистического теста определю статистически значимы эти различия или нет. \u001b[0m\n"
     ]
    }
   ],
   "source": [
    "aov = not_cancel_ordrs_df.groupby(['group', 'order_id'], as_index=False) \\\n",
    "                         .agg({'price': 'sum'}) \\\n",
    "                         .groupby(['group']) \\\n",
    "                         .agg({'price': 'mean'}) \\\n",
    "                         .round(2) \\\n",
    "                         .rename(columns=({'price': 'aov'}))\n",
    "delta_percent = (aov['aov'].max() / aov['aov'].min()) * 100 - 100\n",
    "print(aov)\n",
    "print()\n",
    "print(f\"\\033[1mЕсть различия, у контрольной группы средний чек заказа больще на {delta_percent:.1f} %. При помощи статистического теста определю статистически значимы эти различия или нет. \\033[0m\")"
   ]
  },
  {
   "cell_type": "code",
   "execution_count": 33,
   "metadata": {},
   "outputs": [
    {
     "name": "stdout",
     "output_type": "stream",
     "text": [
      "\u001b[1m total — сумма заказа \u001b[1m\n"
     ]
    },
    {
     "data": {
      "text/html": [
       "<div>\n",
       "<style scoped>\n",
       "    .dataframe tbody tr th:only-of-type {\n",
       "        vertical-align: middle;\n",
       "    }\n",
       "\n",
       "    .dataframe tbody tr th {\n",
       "        vertical-align: top;\n",
       "    }\n",
       "\n",
       "    .dataframe thead th {\n",
       "        text-align: right;\n",
       "    }\n",
       "</style>\n",
       "<table border=\"1\" class=\"dataframe\">\n",
       "  <thead>\n",
       "    <tr style=\"text-align: right;\">\n",
       "      <th></th>\n",
       "      <th>group</th>\n",
       "      <th>order_id</th>\n",
       "      <th>total</th>\n",
       "    </tr>\n",
       "  </thead>\n",
       "  <tbody>\n",
       "    <tr>\n",
       "      <th>0</th>\n",
       "      <td>0</td>\n",
       "      <td>1255</td>\n",
       "      <td>408.7</td>\n",
       "    </tr>\n",
       "    <tr>\n",
       "      <th>1</th>\n",
       "      <td>0</td>\n",
       "      <td>1257</td>\n",
       "      <td>310.2</td>\n",
       "    </tr>\n",
       "    <tr>\n",
       "      <th>2</th>\n",
       "      <td>0</td>\n",
       "      <td>1261</td>\n",
       "      <td>430.7</td>\n",
       "    </tr>\n",
       "  </tbody>\n",
       "</table>\n",
       "</div>"
      ],
      "text/plain": [
       "   group  order_id  total\n",
       "0      0      1255  408.7\n",
       "1      0      1257  310.2\n",
       "2      0      1261  430.7"
      ]
     },
     "execution_count": 33,
     "metadata": {},
     "output_type": "execute_result"
    }
   ],
   "source": [
    "# Подготовлю датафрейм для проведения теста\n",
    "test_1 = not_cancel_ordrs_df.groupby(['group', 'order_id'], as_index=False) \\\n",
    "                            .agg({'price': 'sum'}) \\\n",
    "                            .rename(columns=({'price': 'total'}))\n",
    "print(\"\\033[1m total — сумма заказа \\033[1m\")\n",
    "test_1.head(3)"
   ]
  },
  {
   "cell_type": "markdown",
   "metadata": {},
   "source": [
    "### Визуальная проверка"
   ]
  },
  {
   "cell_type": "code",
   "execution_count": 34,
   "metadata": {},
   "outputs": [
    {
     "data": {
      "image/png": "[encoded data removed]",
      "text/plain": [
       "<Figure size 1200x600 with 1 Axes>"
      ]
     },
     "metadata": {},
     "output_type": "display_data"
    },
    {
     "name": "stdout",
     "output_type": "stream",
     "text": [
      "\u001b[1m Значения распределены относительно симметрично, но с большим хвостом справа \u001b[0m\n"
     ]
    }
   ],
   "source": [
    "# Посмотрю как распределены значения из колонки total\n",
    "sns.displot(data=test_1, x=\"total\", kde=True, height= 6, aspect= 2)\n",
    "# Добавлю название гистограмме и ее осям\n",
    "plt.title('Распределение сумм заказов')\n",
    "plt.xlabel('Сумма заказа')\n",
    "plt.ylabel('Количество заказов')\n",
    "plt.show()\n",
    "\n",
    "print(\"\\033[1m Значения распределены относительно симметрично, но с большим хвостом справа \\033[0m\")"
   ]
  },
  {
   "cell_type": "code",
   "execution_count": 35,
   "metadata": {},
   "outputs": [
    {
     "name": "stdout",
     "output_type": "stream",
     "text": [
      "\u001b[1m total_log — прологарифмированная сумма заказа \u001b[1m\n"
     ]
    },
    {
     "data": {
      "text/html": [
       "<div>\n",
       "<style scoped>\n",
       "    .dataframe tbody tr th:only-of-type {\n",
       "        vertical-align: middle;\n",
       "    }\n",
       "\n",
       "    .dataframe tbody tr th {\n",
       "        vertical-align: top;\n",
       "    }\n",
       "\n",
       "    .dataframe thead th {\n",
       "        text-align: right;\n",
       "    }\n",
       "</style>\n",
       "<table border=\"1\" class=\"dataframe\">\n",
       "  <thead>\n",
       "    <tr style=\"text-align: right;\">\n",
       "      <th></th>\n",
       "      <th>group</th>\n",
       "      <th>order_id</th>\n",
       "      <th>total</th>\n",
       "      <th>total_log</th>\n",
       "    </tr>\n",
       "  </thead>\n",
       "  <tbody>\n",
       "    <tr>\n",
       "      <th>0</th>\n",
       "      <td>0</td>\n",
       "      <td>1255</td>\n",
       "      <td>408.7</td>\n",
       "      <td>6.012981</td>\n",
       "    </tr>\n",
       "    <tr>\n",
       "      <th>1</th>\n",
       "      <td>0</td>\n",
       "      <td>1257</td>\n",
       "      <td>310.2</td>\n",
       "      <td>5.737217</td>\n",
       "    </tr>\n",
       "    <tr>\n",
       "      <th>2</th>\n",
       "      <td>0</td>\n",
       "      <td>1261</td>\n",
       "      <td>430.7</td>\n",
       "      <td>6.065412</td>\n",
       "    </tr>\n",
       "  </tbody>\n",
       "</table>\n",
       "</div>"
      ],
      "text/plain": [
       "   group  order_id  total  total_log\n",
       "0      0      1255  408.7   6.012981\n",
       "1      0      1257  310.2   5.737217\n",
       "2      0      1261  430.7   6.065412"
      ]
     },
     "execution_count": 35,
     "metadata": {},
     "output_type": "execute_result"
    }
   ],
   "source": [
    "# Добавлю колонку с прологарифмированными значениями, что бы сделать распределения более симметричными\n",
    "test_1['total_log'] = np.log(test_1.total)\n",
    "\n",
    "print(\"\\033[1m total_log — прологарифмированная сумма заказа \\033[1m\")\n",
    "test_1.head(3)"
   ]
  },
  {
   "cell_type": "code",
   "execution_count": 36,
   "metadata": {},
   "outputs": [
    {
     "data": {
      "image/png": "[encoded data removed]",
      "text/plain": [
       "<Figure size 1200x600 with 1 Axes>"
      ]
     },
     "metadata": {},
     "output_type": "display_data"
    },
    {
     "name": "stdout",
     "output_type": "stream",
     "text": [
      "\u001b[1mРаспределение имеет более симметричный вид, в отличие от непрологарифмированных значений. Имеется ощутимый хвост слева. Дальше в тесте буду работать со значениями из total_log.  \u001b[0m\n"
     ]
    }
   ],
   "source": [
    "# Посмотрю на прологарифмированные значения из колонки total_log\n",
    "sns.displot(data=test_1, x=\"total_log\", kde=True, height= 6, aspect= 2)\n",
    "\n",
    "# Добавлю название гистограмме и ее осям\n",
    "plt.title('Распределение прологарифмированных сумм заказов')\n",
    "plt.xlabel('Сумма заказа, log')\n",
    "plt.ylabel('Количество заказов')\n",
    "plt.show()\n",
    "\n",
    "print(\"\\033[1mРаспределение имеет более симметричный вид, в отличие от непрологарифмированных значений. Имеется ощутимый хвост слева. Дальше в тесте буду работать со значениями из total_log.  \\033[0m\")"
   ]
  },
  {
   "cell_type": "code",
   "execution_count": 37,
   "metadata": {},
   "outputs": [
    {
     "data": {
      "image/png": "[encoded data removed]",
      "text/plain": [
       "<Figure size 640x480 with 1 Axes>"
      ]
     },
     "metadata": {},
     "output_type": "display_data"
    }
   ],
   "source": [
    "# При помощи kdeplot посмотрю на плотность распределения значений для каждой группы\n",
    "sns.kdeplot(x='total_log', data=test_1, hue='group', common_norm=False);\n",
    "plt.title(\"Kernel Density Function\");\n",
    "plt.show()"
   ]
  },
  {
   "cell_type": "code",
   "execution_count": 38,
   "metadata": {},
   "outputs": [
    {
     "data": {
      "image/png": "[encoded data removed]",
      "text/plain": [
       "<Figure size 640x480 with 1 Axes>"
      ]
     },
     "metadata": {},
     "output_type": "display_data"
    },
    {
     "name": "stdout",
     "output_type": "stream",
     "text": [
      "\u001b[1m Значения в группах очень схожи, но в экспериментальной группе больше выбросов и они находятся дальше. \u001b[0m\n",
      "\u001b[1m В контрольной группе выброс с минимальным значением относится к order_id 27687, в котором два товара 'пакет бумажный'. \u001b[0m\n",
      "\u001b[1m В экспериментальная группе выброс с минимальным значением относится к order_id 55000, в котором один товар 'пакет бумажный'. \u001b[0m\n"
     ]
    }
   ],
   "source": [
    "# Разделю на отдельные группы\n",
    "data0 = test_1[test_1.group == 0]['total_log'].values  # контрольная группа\n",
    "data1 = test_1[test_1.group == 1]['total_log'].values  # экспериментальная группа\n",
    "\n",
    "# Создание боксплота\n",
    "fig, ax = plt.subplots()\n",
    "bp = ax.boxplot([data0, data1], patch_artist=True)\n",
    "\n",
    "# Добавлю название гистограмме и ее осям\n",
    "plt.title('Распределение прологарифмированных сумм заказов')\n",
    "plt.xlabel('Группа')\n",
    "plt.ylabel('Сумма заказа, log')\n",
    "\n",
    "# Подпись значений квартилей, усов и выбросов для каждой группы\n",
    "for i, group_data in enumerate([data0, data1], start=0):\n",
    "    \n",
    "    quartiles = np.percentile(group_data, [25, 50, 75])\n",
    "    \n",
    "    # Подписи квартилей (25, 50, 75)\n",
    "    for q in quartiles:\n",
    "        ax.annotate(f'{q:.2f}', xy=(i + 1.075, q), xytext=(i + 1.2, q),\n",
    "                    arrowprops=dict(arrowstyle='->', color='black'),\n",
    "                    fontsize=10, color='black')\n",
    "\n",
    "    \n",
    "    # Максимальное и минимальное значение в группе\n",
    "    max_val = np.max(group_data)\n",
    "    min_val = np.min(group_data)\n",
    "\n",
    "    # Значения усов (верхний и нижний)\n",
    "    lower_whiskers =  bp['whiskers'][2 * i].get_ydata()[1]\n",
    "    upper_whiskers = bp['whiskers'][2 * i + 1].get_ydata()[1]  \n",
    "    \n",
    "    # Подписи выбросов (максимальных и минимальных)\n",
    "    if max_val != upper_whiskers:\n",
    "        ax.annotate(f'{max_val:.2f}', xy=(i + 1, max_val), xytext=(i + 1.2, max_val),\n",
    "                    arrowprops=dict(arrowstyle='->', color='black'),\n",
    "                    fontsize=10, color='black')\n",
    "    if min_val != lower_whiskers:\n",
    "        ax.annotate(f'{min_val:.2f}', xy=(i + 1, min_val), xytext=(i + 1.2, min_val),\n",
    "                    arrowprops=dict(arrowstyle='->', color='black'),\n",
    "                    fontsize=10, color='black')    \n",
    "   \n",
    "    # Подписи усов (верхний и нижний)\n",
    "    ax.annotate(f'{lower_whiskers:.2f}', xy=(i + 1.035, lower_whiskers), xytext=(i + 1.2, lower_whiskers),\n",
    "            arrowprops=dict(arrowstyle='->', color='black'),\n",
    "            fontsize=10, color='black')\n",
    "    ax.annotate(f'{upper_whiskers:.2f}', xy=(i + 1.035, upper_whiskers), xytext=(i + 1.2, upper_whiskers),\n",
    "            arrowprops=dict(arrowstyle='->', color='black'),\n",
    "            fontsize=10, color='black')\n",
    "\n",
    "# Настройка меток осей\n",
    "ax.set_xticklabels(['0 — контрольная', '1 — экспериментальная'])\n",
    "plt.show()\n",
    "\n",
    "print(\"\\033[1m Значения в группах очень схожи, но в экспериментальной группе больше выбросов и они находятся дальше. \\033[0m\")\n",
    "print(\"\\033[1m В контрольной группе выброс с минимальным значением относится к order_id 27687, в котором два товара 'пакет бумажный'. \\033[0m\")\n",
    "print(\"\\033[1m В экспериментальная группе выброс с минимальным значением относится к order_id 55000, в котором один товар 'пакет бумажный'. \\033[0m\")"
   ]
  },
  {
   "cell_type": "code",
   "execution_count": 39,
   "metadata": {},
   "outputs": [
    {
     "data": {
      "text/html": [
       "<div>\n",
       "<style scoped>\n",
       "    .dataframe tbody tr th:only-of-type {\n",
       "        vertical-align: middle;\n",
       "    }\n",
       "\n",
       "    .dataframe tbody tr th {\n",
       "        vertical-align: top;\n",
       "    }\n",
       "\n",
       "    .dataframe thead th {\n",
       "        text-align: right;\n",
       "    }\n",
       "</style>\n",
       "<table border=\"1\" class=\"dataframe\">\n",
       "  <thead>\n",
       "    <tr style=\"text-align: right;\">\n",
       "      <th></th>\n",
       "      <th>user_id</th>\n",
       "      <th>order_id</th>\n",
       "      <th>action</th>\n",
       "      <th>time</th>\n",
       "      <th>date</th>\n",
       "      <th>group</th>\n",
       "      <th>creation_time</th>\n",
       "      <th>product_id</th>\n",
       "      <th>name</th>\n",
       "      <th>price</th>\n",
       "    </tr>\n",
       "  </thead>\n",
       "  <tbody>\n",
       "    <tr>\n",
       "      <th>5526</th>\n",
       "      <td>1168</td>\n",
       "      <td>27687</td>\n",
       "      <td>create_order</td>\n",
       "      <td>22:54:44</td>\n",
       "      <td>2022-09-02</td>\n",
       "      <td>0</td>\n",
       "      <td>2022-09-02 22:54:44</td>\n",
       "      <td>54</td>\n",
       "      <td>пакет бумажный</td>\n",
       "      <td>1.0</td>\n",
       "    </tr>\n",
       "    <tr>\n",
       "      <th>5527</th>\n",
       "      <td>1168</td>\n",
       "      <td>27687</td>\n",
       "      <td>create_order</td>\n",
       "      <td>22:54:44</td>\n",
       "      <td>2022-09-02</td>\n",
       "      <td>0</td>\n",
       "      <td>2022-09-02 22:54:44</td>\n",
       "      <td>54</td>\n",
       "      <td>пакет бумажный</td>\n",
       "      <td>1.0</td>\n",
       "    </tr>\n",
       "  </tbody>\n",
       "</table>\n",
       "</div>"
      ],
      "text/plain": [
       "      user_id  order_id        action      time       date  group  \\\n",
       "5526     1168     27687  create_order  22:54:44 2022-09-02      0   \n",
       "5527     1168     27687  create_order  22:54:44 2022-09-02      0   \n",
       "\n",
       "           creation_time  product_id            name  price  \n",
       "5526 2022-09-02 22:54:44          54  пакет бумажный    1.0  \n",
       "5527 2022-09-02 22:54:44          54  пакет бумажный    1.0  "
      ]
     },
     "execution_count": 39,
     "metadata": {},
     "output_type": "execute_result"
    }
   ],
   "source": [
    "# Контрольная группа, заказ с минимальной суммой\n",
    "all_df[all_df.order_id == 27687]"
   ]
  },
  {
   "cell_type": "code",
   "execution_count": 40,
   "metadata": {},
   "outputs": [
    {
     "data": {
      "text/html": [
       "<div>\n",
       "<style scoped>\n",
       "    .dataframe tbody tr th:only-of-type {\n",
       "        vertical-align: middle;\n",
       "    }\n",
       "\n",
       "    .dataframe tbody tr th {\n",
       "        vertical-align: top;\n",
       "    }\n",
       "\n",
       "    .dataframe thead th {\n",
       "        text-align: right;\n",
       "    }\n",
       "</style>\n",
       "<table border=\"1\" class=\"dataframe\">\n",
       "  <thead>\n",
       "    <tr style=\"text-align: right;\">\n",
       "      <th></th>\n",
       "      <th>user_id</th>\n",
       "      <th>order_id</th>\n",
       "      <th>action</th>\n",
       "      <th>time</th>\n",
       "      <th>date</th>\n",
       "      <th>group</th>\n",
       "      <th>creation_time</th>\n",
       "      <th>product_id</th>\n",
       "      <th>name</th>\n",
       "      <th>price</th>\n",
       "    </tr>\n",
       "  </thead>\n",
       "  <tbody>\n",
       "    <tr>\n",
       "      <th>5580</th>\n",
       "      <td>1402</td>\n",
       "      <td>55000</td>\n",
       "      <td>create_order</td>\n",
       "      <td>07:01:21</td>\n",
       "      <td>2022-09-08</td>\n",
       "      <td>1</td>\n",
       "      <td>2022-09-08 07:01:21</td>\n",
       "      <td>54</td>\n",
       "      <td>пакет бумажный</td>\n",
       "      <td>1.0</td>\n",
       "    </tr>\n",
       "  </tbody>\n",
       "</table>\n",
       "</div>"
      ],
      "text/plain": [
       "      user_id  order_id        action      time       date  group  \\\n",
       "5580     1402     55000  create_order  07:01:21 2022-09-08      1   \n",
       "\n",
       "           creation_time  product_id            name  price  \n",
       "5580 2022-09-08 07:01:21          54  пакет бумажный    1.0  "
      ]
     },
     "execution_count": 40,
     "metadata": {},
     "output_type": "execute_result"
    }
   ],
   "source": [
    "# Экспериментальная группа, заказ с минимальной суммой\n",
    "all_df[all_df.order_id == 55000]"
   ]
  },
  {
   "cell_type": "markdown",
   "metadata": {},
   "source": [
    "### Статистические тесты"
   ]
  },
  {
   "cell_type": "markdown",
   "metadata": {},
   "source": [
    "#### Проверка нормальности распределения данных при помощи **pg.normality**  \n",
    "\n",
    "**<u>Определю гипотезы:</u>**  \n",
    "* H0: значения из колонки total_log распределены нормально  \n",
    "* H1: распределение значений из колонки total_log является ненормальным"
   ]
  },
  {
   "cell_type": "code",
   "execution_count": 41,
   "metadata": {},
   "outputs": [
    {
     "data": {
      "text/html": [
       "<div>\n",
       "<style scoped>\n",
       "    .dataframe tbody tr th:only-of-type {\n",
       "        vertical-align: middle;\n",
       "    }\n",
       "\n",
       "    .dataframe tbody tr th {\n",
       "        vertical-align: top;\n",
       "    }\n",
       "\n",
       "    .dataframe thead th {\n",
       "        text-align: right;\n",
       "    }\n",
       "</style>\n",
       "<table border=\"1\" class=\"dataframe\">\n",
       "  <thead>\n",
       "    <tr style=\"text-align: right;\">\n",
       "      <th></th>\n",
       "      <th>W</th>\n",
       "      <th>pval</th>\n",
       "      <th>normal</th>\n",
       "    </tr>\n",
       "    <tr>\n",
       "      <th>group</th>\n",
       "      <th></th>\n",
       "      <th></th>\n",
       "      <th></th>\n",
       "    </tr>\n",
       "  </thead>\n",
       "  <tbody>\n",
       "    <tr>\n",
       "      <th>0</th>\n",
       "      <td>150.781890</td>\n",
       "      <td>1.811877e-33</td>\n",
       "      <td>False</td>\n",
       "    </tr>\n",
       "    <tr>\n",
       "      <th>1</th>\n",
       "      <td>294.576398</td>\n",
       "      <td>1.080309e-64</td>\n",
       "      <td>False</td>\n",
       "    </tr>\n",
       "  </tbody>\n",
       "</table>\n",
       "</div>"
      ],
      "text/plain": [
       "                W          pval  normal\n",
       "group                                  \n",
       "0      150.781890  1.811877e-33   False\n",
       "1      294.576398  1.080309e-64   False"
      ]
     },
     "execution_count": 41,
     "metadata": {},
     "output_type": "execute_result"
    }
   ],
   "source": [
    "pg.normality(data=test_1, dv='total_log', group='group', method='normaltest')"
   ]
  },
  {
   "cell_type": "markdown",
   "metadata": {},
   "source": [
    "**Вывод:**  \n",
    "Значения p-value в обеих группах меньше альфа-уровня (0.05). Это означает, что у меня нет достаточных оснований, что бы принять H0.<br>\n",
    "**Принимаю H1**, распределение значений из колонки total_log являются ненормальными."
   ]
  },
  {
   "cell_type": "markdown",
   "metadata": {},
   "source": [
    "#### Проверка данных на нормальность и гомогенность (гомоскедастичность) дисперсии  \n",
    "\n",
    "Для проверки равенства дисперсий в группах воспользуюсь тестом Левина, т.к. его рекомендуется использовать при ненормальном распределении.  \n",
    "\n",
    "**<u>Определю гипотезы:</u>**  \n",
    "* H0: дисперсии между группами равны\n",
    "* H1: дисперсии между группами не равны"
   ]
  },
  {
   "cell_type": "code",
   "execution_count": 42,
   "metadata": {},
   "outputs": [
    {
     "name": "stdout",
     "output_type": "stream",
     "text": [
      "\u001b[1m Данные имеют тяжелый хвост (p-value: 0.0) \u001b[0m\n"
     ]
    }
   ],
   "source": [
    "# Воспользуюсь функцией check_tail_heaviness для определения типа хвоста (тяжелый/легкий) \n",
    "check_tail_heaviness(test_1['total_log'])"
   ]
  },
  {
   "cell_type": "code",
   "execution_count": 43,
   "metadata": {},
   "outputs": [
    {
     "name": "stdout",
     "output_type": "stream",
     "text": [
      "\u001b[1mСтатистика = 0.35, p-value = 0.5527709315764066.\n",
      "Это означает, что у меня не имеется достаточно оснований, чтобы сказать, что дисперсии не равны. Поскольку p-value больше 0.05, принимаю H0. \u001b[0m\n"
     ]
    }
   ],
   "source": [
    "# Сравню дисперсии тестом Левина. Параметр center='trimmed' — рекомендуется для распределений с тяжелыми хвостами\n",
    "test_stat, pvalue = st.levene(test_1[test_1.group == 0].total_log, test_1[test_1.group == 1].total_log, center='trimmed')\n",
    "if pvalue > 0.05:\n",
    "    print(f\"\\033[1mСтатистика = {round(test_stat, 2)}, p-value = {pvalue}.\\nЭто означает, что у меня не имеется достаточно оснований, чтобы сказать, что дисперсии не равны. Поскольку p-value больше 0.05, принимаю H0. \\033[0m\")\n",
    "else:\n",
    "    print(f\"\\033[1mСтатистика = {round(test_stat, 2)}, p-value = {pvalue}.\\nЭто означает, что у меня имеется достаточно оснований, чтобы сказать, что дисперсии не равны. Поскольку p-value меньше 0.05, принимаю H1.\\033[0m\")"
   ]
  },
  {
   "cell_type": "markdown",
   "metadata": {},
   "source": [
    "### Итог по результатам статистических тестов и визуальной проверки\n",
    "Исходя из предварительного анализа, результатов теста на нормальность и гомогенность дисперсий, подойдет классический t-test (t-критерий Стьюдента). Данный тест может быть использован для сравнения средних при ненормальном распределении, особенно на больших выборках. Для теста необходимо соблюдение гомогенности дисперсий."
   ]
  },
  {
   "cell_type": "markdown",
   "metadata": {},
   "source": [
    "### T-test\n",
    "<b>Тип данных:</b> количественные, непрерывные.<br>\n",
    "<b>Целевая метрика:</b> средний чек заказа<br>\n",
    "\n",
    "**<u>Определю гипотезы:</u>**\n",
    "* H0 - средний чек заказа между контрольной и экспериментальной группой статистически значимо не различается<br>\n",
    "* H1 - наблюдаемый эффект это результат внедрения в приложение умной системы рекомендации товаров, разница статистически значима"
   ]
  },
  {
   "cell_type": "code",
   "execution_count": 44,
   "metadata": {},
   "outputs": [
    {
     "name": "stdout",
     "output_type": "stream",
     "text": [
      "\u001b[1m- статистика теста = 1.75\n",
      "- p-value = 0.07981582868828002\u001b[0m\n"
     ]
    }
   ],
   "source": [
    "test_stat, pvalue = st.ttest_ind(test_1[test_1.group == 0].total_log, test_1[test_1.group == 1].total_log)\n",
    "print(f\"\\033[1m- статистика теста = {round(test_stat, 2)}\\n- p-value = {pvalue}\\033[0m\")"
   ]
  },
  {
   "cell_type": "markdown",
   "metadata": {},
   "source": [
    "<b>Вывод:</b><br>\n",
    "P-value больше альфа-уровня (0.05). Таким образом у меня не имеется достаточных оснований, чтобы сказать, что значения в группах статистически значимо различаются. **Принимаю H0.**<br>\n",
    "Рекомендация товаров существенно не повлияла на средний чек заказа. Средний чек между экспериментальной и контрольной группой статистически значимо не различается."
   ]
  },
  {
   "cell_type": "markdown",
   "metadata": {},
   "source": [
    "## Test #2 (среднее количество уникальных товаров в заказе)\n",
    "**Посмотрю на среднее количество уникальных товаров в заказе (не учитывая отмененные order_id)**  \n",
    "Смотрю именно уникальные товары, т.к. считаю, что новая фича с рекомендацией товаров в первую очередь рассчитана не на увеличение общего количества товаров, а направленна на покупку разнообразного товара."
   ]
  },
  {
   "cell_type": "code",
   "execution_count": 45,
   "metadata": {},
   "outputs": [
    {
     "name": "stdout",
     "output_type": "stream",
     "text": [
      "            aoq\n",
      "group          \n",
      "0      3.275049\n",
      "1      3.283795\n",
      "\n",
      "\u001b[1mЕсть различия, у экспериментальной группы среднее количество уникальных товаров в заказе больще на 0.3 %. При помощи статистического теста определю статистически значимы эти различия или нет. \u001b[0m\n"
     ]
    }
   ],
   "source": [
    "aoq = not_cancel_ordrs_df.groupby(['order_id', 'group'], as_index=False) \\\n",
    "                         .agg({'product_id': 'nunique'}) \\\n",
    "                         .rename(columns=({'product_id': 'amount'})) \\\n",
    "                         .groupby(['group']) \\\n",
    "                         .agg({'amount': 'mean'}) \\\n",
    "                         .rename(columns=({'amount': 'aoq'}))\n",
    "delta_percent = (aoq['aoq'].max() / aoq['aoq'].min()) * 100 - 100\n",
    "print(aoq)\n",
    "print()\n",
    "print(f\"\\033[1mЕсть различия, у экспериментальной группы среднее количество уникальных товаров в заказе больще на {delta_percent:.1f} %. При помощи статистического теста определю статистически значимы эти различия или нет. \\033[0m\")"
   ]
  },
  {
   "cell_type": "code",
   "execution_count": 46,
   "metadata": {},
   "outputs": [
    {
     "name": "stdout",
     "output_type": "stream",
     "text": [
      "\u001b[1m total — количество уникальных товаров в заказе \u001b[1m\n"
     ]
    },
    {
     "data": {
      "text/html": [
       "<div>\n",
       "<style scoped>\n",
       "    .dataframe tbody tr th:only-of-type {\n",
       "        vertical-align: middle;\n",
       "    }\n",
       "\n",
       "    .dataframe tbody tr th {\n",
       "        vertical-align: top;\n",
       "    }\n",
       "\n",
       "    .dataframe thead th {\n",
       "        text-align: right;\n",
       "    }\n",
       "</style>\n",
       "<table border=\"1\" class=\"dataframe\">\n",
       "  <thead>\n",
       "    <tr style=\"text-align: right;\">\n",
       "      <th></th>\n",
       "      <th>group</th>\n",
       "      <th>order_id</th>\n",
       "      <th>total</th>\n",
       "    </tr>\n",
       "  </thead>\n",
       "  <tbody>\n",
       "    <tr>\n",
       "      <th>0</th>\n",
       "      <td>0</td>\n",
       "      <td>1255</td>\n",
       "      <td>4</td>\n",
       "    </tr>\n",
       "    <tr>\n",
       "      <th>1</th>\n",
       "      <td>0</td>\n",
       "      <td>1257</td>\n",
       "      <td>4</td>\n",
       "    </tr>\n",
       "    <tr>\n",
       "      <th>2</th>\n",
       "      <td>0</td>\n",
       "      <td>1261</td>\n",
       "      <td>4</td>\n",
       "    </tr>\n",
       "  </tbody>\n",
       "</table>\n",
       "</div>"
      ],
      "text/plain": [
       "   group  order_id  total\n",
       "0      0      1255      4\n",
       "1      0      1257      4\n",
       "2      0      1261      4"
      ]
     },
     "execution_count": 46,
     "metadata": {},
     "output_type": "execute_result"
    }
   ],
   "source": [
    "# Подготовлю датафрейм для проведения теста\n",
    "test_2 = not_cancel_ordrs_df.groupby(['group', 'order_id'], as_index=False) \\\n",
    "                            .agg({'product_id': 'nunique'}) \\\n",
    "                            .rename(columns=({'product_id': 'total'}))\n",
    "print(\"\\033[1m total — количество уникальных товаров в заказе \\033[1m\")\n",
    "test_2.head(3)"
   ]
  },
  {
   "cell_type": "markdown",
   "metadata": {},
   "source": [
    "### Визуальная проверка"
   ]
  },
  {
   "cell_type": "code",
   "execution_count": 47,
   "metadata": {},
   "outputs": [
    {
     "data": {
      "image/png": "[encoded data removed]",
      "text/plain": [
       "<Figure size 1600x800 with 1 Axes>"
      ]
     },
     "metadata": {},
     "output_type": "display_data"
    },
    {
     "name": "stdout",
     "output_type": "stream",
     "text": [
      "\u001b[1mЗначения распределены относительно симметрично, но имеется небольшой хвост справа \u001b[0m\n"
     ]
    }
   ],
   "source": [
    "# Посмотрю как распределены значения из колонки total\n",
    "sns.displot(data=test_2, x=\"total\", height= 8, aspect= 2, bins=8)\n",
    "\n",
    "# Добавлю название гистограмме и ее осям\n",
    "plt.title('Распределение уникальных товаров в заказе')\n",
    "plt.xlabel('Товары, шт.')\n",
    "plt.ylabel('Количество заказов')\n",
    "plt.show()\n",
    "\n",
    "print(\"\\033[1mЗначения распределены относительно симметрично, но имеется небольшой хвост справа \\033[0m\")"
   ]
  },
  {
   "cell_type": "code",
   "execution_count": 48,
   "metadata": {},
   "outputs": [
    {
     "data": {
      "image/png": "[encoded data removed]",
      "text/plain": [
       "<Figure size 640x480 with 1 Axes>"
      ]
     },
     "metadata": {},
     "output_type": "display_data"
    }
   ],
   "source": [
    "# При помощи kdeplot посмотрю на плотность распределения значений для каждой группы\n",
    "sns.kdeplot(x='total', data=test_2, hue='group', common_norm=False, bw_method=0.45);\n",
    "plt.title(\"Kernel Density Function\");\n",
    "plt.show()"
   ]
  },
  {
   "cell_type": "code",
   "execution_count": 49,
   "metadata": {},
   "outputs": [
    {
     "data": {
      "image/png": "[encoded data removed]",
      "text/plain": [
       "<Figure size 640x480 with 1 Axes>"
      ]
     },
     "metadata": {},
     "output_type": "display_data"
    },
    {
     "name": "stdout",
     "output_type": "stream",
     "text": [
      "\u001b[1mЗначения в группах схожи, но в экспериментальной группе имеются выбросы со значением total = 8. \u001b[0m\n",
      "\u001b[1mДанные выбросы относится к order_id 3465 и 6033. \u001b[0m\n"
     ]
    }
   ],
   "source": [
    "# Разделю на отдельные группы\n",
    "data0 = test_2[test_2.group == 0]['total'].values  # контрольная группа\n",
    "data1 = test_2[test_2.group == 1]['total'].values  # экспериментальная группа\n",
    "\n",
    "# Создание боксплота\n",
    "fig, ax = plt.subplots()\n",
    "bp = ax.boxplot([data0, data1], patch_artist=True)\n",
    "\n",
    "# Добавлю название гистограмме и ее осям\n",
    "plt.title('Распределение уникальных товаров в заказе')\n",
    "plt.xlabel('Группа')\n",
    "plt.ylabel('Товары, шт.')\n",
    "\n",
    "# Подпись значений квартилей, усов и выбросов для каждой группы\n",
    "for i, group_data in enumerate([data0, data1], start=0):\n",
    "    \n",
    "    quartiles = np.percentile(group_data, [25, 50, 75])\n",
    "    \n",
    "    # Подписи квартилей (25, 50, 75)\n",
    "    for q in quartiles:\n",
    "        ax.annotate(f'{q:.0f}', xy=(i + 1.075, q), xytext=(i + 1.2, q),\n",
    "                    arrowprops=dict(arrowstyle='->', color='black'),\n",
    "                    fontsize=10, color='black')\n",
    "\n",
    "    \n",
    "    # Максимальное и минимальное значение в группе\n",
    "    max_val = np.max(group_data)\n",
    "    min_val = np.min(group_data)\n",
    "\n",
    "    # Значения усов (верхний и нижний)\n",
    "    lower_whiskers =  bp['whiskers'][2 * i].get_ydata()[1]\n",
    "    upper_whiskers = bp['whiskers'][2 * i + 1].get_ydata()[1]  \n",
    "    \n",
    "    # Подписи выбросов (максимальных и минимальных)\n",
    "    if max_val != upper_whiskers:\n",
    "        ax.annotate(f'{max_val:.0f}', xy=(i + 1, max_val), xytext=(i + 1.2, max_val),\n",
    "                    arrowprops=dict(arrowstyle='->', color='black'),\n",
    "                    fontsize=10, color='black')\n",
    "    if min_val != lower_whiskers:\n",
    "        ax.annotate(f'{min_val:.0f}', xy=(i + 1, min_val), xytext=(i + 1.2, min_val),\n",
    "                    arrowprops=dict(arrowstyle='->', color='black'),\n",
    "                    fontsize=10, color='black')    \n",
    "   \n",
    "    # Подписи усов (верхний и нижний)\n",
    "    ax.annotate(f'{lower_whiskers:.0f}', xy=(i + 1.035, lower_whiskers), xytext=(i + 1.2, lower_whiskers),\n",
    "            arrowprops=dict(arrowstyle='->', color='black'),\n",
    "            fontsize=10, color='black')\n",
    "    ax.annotate(f'{upper_whiskers:.0f}', xy=(i + 1.035, upper_whiskers), xytext=(i + 1.2, upper_whiskers),\n",
    "            arrowprops=dict(arrowstyle='->', color='black'),\n",
    "            fontsize=10, color='black')\n",
    "\n",
    "# Настройка меток осей\n",
    "ax.set_xticklabels(['0 — контрольная', '1 — экспериментальная'])\n",
    "plt.show()\n",
    "\n",
    "print(\"\\033[1mЗначения в группах схожи, но в экспериментальной группе имеются выбросы со значением total = 8. \\033[0m\")\n",
    "print(\"\\033[1mДанные выбросы относится к order_id 3465 и 6033. \\033[0m\")"
   ]
  },
  {
   "cell_type": "code",
   "execution_count": 50,
   "metadata": {},
   "outputs": [
    {
     "data": {
      "text/html": [
       "<div>\n",
       "<style scoped>\n",
       "    .dataframe tbody tr th:only-of-type {\n",
       "        vertical-align: middle;\n",
       "    }\n",
       "\n",
       "    .dataframe tbody tr th {\n",
       "        vertical-align: top;\n",
       "    }\n",
       "\n",
       "    .dataframe thead th {\n",
       "        text-align: right;\n",
       "    }\n",
       "</style>\n",
       "<table border=\"1\" class=\"dataframe\">\n",
       "  <thead>\n",
       "    <tr style=\"text-align: right;\">\n",
       "      <th></th>\n",
       "      <th>group</th>\n",
       "      <th>order_id</th>\n",
       "      <th>total</th>\n",
       "    </tr>\n",
       "  </thead>\n",
       "  <tbody>\n",
       "    <tr>\n",
       "      <th>2234</th>\n",
       "      <td>1</td>\n",
       "      <td>3465</td>\n",
       "      <td>8</td>\n",
       "    </tr>\n",
       "    <tr>\n",
       "      <th>2442</th>\n",
       "      <td>1</td>\n",
       "      <td>6033</td>\n",
       "      <td>8</td>\n",
       "    </tr>\n",
       "  </tbody>\n",
       "</table>\n",
       "</div>"
      ],
      "text/plain": [
       "      group  order_id  total\n",
       "2234      1      3465      8\n",
       "2442      1      6033      8"
      ]
     },
     "execution_count": 50,
     "metadata": {},
     "output_type": "execute_result"
    }
   ],
   "source": [
    "# Экспериментальная группа, заказы со значением total == 8\n",
    "test_2.query(\"group == 1 and total == 8\")"
   ]
  },
  {
   "cell_type": "code",
   "execution_count": 51,
   "metadata": {},
   "outputs": [
    {
     "data": {
      "text/html": [
       "<div>\n",
       "<style scoped>\n",
       "    .dataframe tbody tr th:only-of-type {\n",
       "        vertical-align: middle;\n",
       "    }\n",
       "\n",
       "    .dataframe tbody tr th {\n",
       "        vertical-align: top;\n",
       "    }\n",
       "\n",
       "    .dataframe thead th {\n",
       "        text-align: right;\n",
       "    }\n",
       "</style>\n",
       "<table border=\"1\" class=\"dataframe\">\n",
       "  <thead>\n",
       "    <tr style=\"text-align: right;\">\n",
       "      <th></th>\n",
       "      <th>user_id</th>\n",
       "      <th>order_id</th>\n",
       "      <th>action</th>\n",
       "      <th>time</th>\n",
       "      <th>date</th>\n",
       "      <th>group</th>\n",
       "      <th>creation_time</th>\n",
       "      <th>product_id</th>\n",
       "      <th>name</th>\n",
       "      <th>price</th>\n",
       "    </tr>\n",
       "  </thead>\n",
       "  <tbody>\n",
       "    <tr>\n",
       "      <th>44</th>\n",
       "      <td>1122</td>\n",
       "      <td>3465</td>\n",
       "      <td>create_order</td>\n",
       "      <td>10:07:44</td>\n",
       "      <td>2022-08-27</td>\n",
       "      <td>1</td>\n",
       "      <td>2022-08-27 10:07:44</td>\n",
       "      <td>75</td>\n",
       "      <td>сок ананасовый</td>\n",
       "      <td>120.0</td>\n",
       "    </tr>\n",
       "    <tr>\n",
       "      <th>1411</th>\n",
       "      <td>1122</td>\n",
       "      <td>3465</td>\n",
       "      <td>create_order</td>\n",
       "      <td>10:07:44</td>\n",
       "      <td>2022-08-27</td>\n",
       "      <td>1</td>\n",
       "      <td>2022-08-27 10:07:44</td>\n",
       "      <td>34</td>\n",
       "      <td>макароны</td>\n",
       "      <td>98.0</td>\n",
       "    </tr>\n",
       "    <tr>\n",
       "      <th>3509</th>\n",
       "      <td>1122</td>\n",
       "      <td>3465</td>\n",
       "      <td>create_order</td>\n",
       "      <td>10:07:44</td>\n",
       "      <td>2022-08-27</td>\n",
       "      <td>1</td>\n",
       "      <td>2022-08-27 10:07:44</td>\n",
       "      <td>30</td>\n",
       "      <td>энергетический напиток</td>\n",
       "      <td>140.0</td>\n",
       "    </tr>\n",
       "    <tr>\n",
       "      <th>5181</th>\n",
       "      <td>1122</td>\n",
       "      <td>3465</td>\n",
       "      <td>create_order</td>\n",
       "      <td>10:07:44</td>\n",
       "      <td>2022-08-27</td>\n",
       "      <td>1</td>\n",
       "      <td>2022-08-27 10:07:44</td>\n",
       "      <td>25</td>\n",
       "      <td>кофе растворимый</td>\n",
       "      <td>150.0</td>\n",
       "    </tr>\n",
       "    <tr>\n",
       "      <th>5970</th>\n",
       "      <td>1122</td>\n",
       "      <td>3465</td>\n",
       "      <td>create_order</td>\n",
       "      <td>10:07:44</td>\n",
       "      <td>2022-08-27</td>\n",
       "      <td>1</td>\n",
       "      <td>2022-08-27 10:07:44</td>\n",
       "      <td>65</td>\n",
       "      <td>бананы</td>\n",
       "      <td>100.0</td>\n",
       "    </tr>\n",
       "    <tr>\n",
       "      <th>9145</th>\n",
       "      <td>1122</td>\n",
       "      <td>3465</td>\n",
       "      <td>create_order</td>\n",
       "      <td>10:07:44</td>\n",
       "      <td>2022-08-27</td>\n",
       "      <td>1</td>\n",
       "      <td>2022-08-27 10:07:44</td>\n",
       "      <td>27</td>\n",
       "      <td>чай травяной листовой</td>\n",
       "      <td>120.6</td>\n",
       "    </tr>\n",
       "    <tr>\n",
       "      <th>11764</th>\n",
       "      <td>1122</td>\n",
       "      <td>3465</td>\n",
       "      <td>create_order</td>\n",
       "      <td>10:07:44</td>\n",
       "      <td>2022-08-27</td>\n",
       "      <td>1</td>\n",
       "      <td>2022-08-27 10:07:44</td>\n",
       "      <td>32</td>\n",
       "      <td>овсянка</td>\n",
       "      <td>55.0</td>\n",
       "    </tr>\n",
       "    <tr>\n",
       "      <th>14067</th>\n",
       "      <td>1122</td>\n",
       "      <td>3465</td>\n",
       "      <td>create_order</td>\n",
       "      <td>10:07:44</td>\n",
       "      <td>2022-08-27</td>\n",
       "      <td>1</td>\n",
       "      <td>2022-08-27 10:07:44</td>\n",
       "      <td>44</td>\n",
       "      <td>мармелад</td>\n",
       "      <td>60.0</td>\n",
       "    </tr>\n",
       "    <tr>\n",
       "      <th>175</th>\n",
       "      <td>1765</td>\n",
       "      <td>6033</td>\n",
       "      <td>create_order</td>\n",
       "      <td>10:33:02</td>\n",
       "      <td>2022-08-28</td>\n",
       "      <td>1</td>\n",
       "      <td>2022-08-28 10:33:02</td>\n",
       "      <td>22</td>\n",
       "      <td>сок мультифрукт</td>\n",
       "      <td>120.0</td>\n",
       "    </tr>\n",
       "    <tr>\n",
       "      <th>3988</th>\n",
       "      <td>1765</td>\n",
       "      <td>6033</td>\n",
       "      <td>create_order</td>\n",
       "      <td>10:33:02</td>\n",
       "      <td>2022-08-28</td>\n",
       "      <td>1</td>\n",
       "      <td>2022-08-28 10:33:02</td>\n",
       "      <td>69</td>\n",
       "      <td>морс клюквенный</td>\n",
       "      <td>175.3</td>\n",
       "    </tr>\n",
       "    <tr>\n",
       "      <th>4357</th>\n",
       "      <td>1765</td>\n",
       "      <td>6033</td>\n",
       "      <td>create_order</td>\n",
       "      <td>10:33:02</td>\n",
       "      <td>2022-08-28</td>\n",
       "      <td>1</td>\n",
       "      <td>2022-08-28 10:33:02</td>\n",
       "      <td>33</td>\n",
       "      <td>шоколад черный</td>\n",
       "      <td>60.0</td>\n",
       "    </tr>\n",
       "    <tr>\n",
       "      <th>7461</th>\n",
       "      <td>1765</td>\n",
       "      <td>6033</td>\n",
       "      <td>create_order</td>\n",
       "      <td>10:33:02</td>\n",
       "      <td>2022-08-28</td>\n",
       "      <td>1</td>\n",
       "      <td>2022-08-28 10:33:02</td>\n",
       "      <td>57</td>\n",
       "      <td>свинина</td>\n",
       "      <td>450.3</td>\n",
       "    </tr>\n",
       "    <tr>\n",
       "      <th>7746</th>\n",
       "      <td>1765</td>\n",
       "      <td>6033</td>\n",
       "      <td>create_order</td>\n",
       "      <td>10:33:02</td>\n",
       "      <td>2022-08-28</td>\n",
       "      <td>1</td>\n",
       "      <td>2022-08-28 10:33:02</td>\n",
       "      <td>46</td>\n",
       "      <td>печенье</td>\n",
       "      <td>45.5</td>\n",
       "    </tr>\n",
       "    <tr>\n",
       "      <th>9783</th>\n",
       "      <td>1765</td>\n",
       "      <td>6033</td>\n",
       "      <td>create_order</td>\n",
       "      <td>10:33:02</td>\n",
       "      <td>2022-08-28</td>\n",
       "      <td>1</td>\n",
       "      <td>2022-08-28 10:33:02</td>\n",
       "      <td>58</td>\n",
       "      <td>рис</td>\n",
       "      <td>70.0</td>\n",
       "    </tr>\n",
       "    <tr>\n",
       "      <th>10969</th>\n",
       "      <td>1765</td>\n",
       "      <td>6033</td>\n",
       "      <td>create_order</td>\n",
       "      <td>10:33:02</td>\n",
       "      <td>2022-08-28</td>\n",
       "      <td>1</td>\n",
       "      <td>2022-08-28 10:33:02</td>\n",
       "      <td>18</td>\n",
       "      <td>кетчуп</td>\n",
       "      <td>58.0</td>\n",
       "    </tr>\n",
       "    <tr>\n",
       "      <th>11316</th>\n",
       "      <td>1765</td>\n",
       "      <td>6033</td>\n",
       "      <td>create_order</td>\n",
       "      <td>10:33:02</td>\n",
       "      <td>2022-08-28</td>\n",
       "      <td>1</td>\n",
       "      <td>2022-08-28 10:33:02</td>\n",
       "      <td>1</td>\n",
       "      <td>сахар</td>\n",
       "      <td>150.0</td>\n",
       "    </tr>\n",
       "  </tbody>\n",
       "</table>\n",
       "</div>"
      ],
      "text/plain": [
       "       user_id  order_id        action      time       date  group  \\\n",
       "44        1122      3465  create_order  10:07:44 2022-08-27      1   \n",
       "1411      1122      3465  create_order  10:07:44 2022-08-27      1   \n",
       "3509      1122      3465  create_order  10:07:44 2022-08-27      1   \n",
       "5181      1122      3465  create_order  10:07:44 2022-08-27      1   \n",
       "5970      1122      3465  create_order  10:07:44 2022-08-27      1   \n",
       "9145      1122      3465  create_order  10:07:44 2022-08-27      1   \n",
       "11764     1122      3465  create_order  10:07:44 2022-08-27      1   \n",
       "14067     1122      3465  create_order  10:07:44 2022-08-27      1   \n",
       "175       1765      6033  create_order  10:33:02 2022-08-28      1   \n",
       "3988      1765      6033  create_order  10:33:02 2022-08-28      1   \n",
       "4357      1765      6033  create_order  10:33:02 2022-08-28      1   \n",
       "7461      1765      6033  create_order  10:33:02 2022-08-28      1   \n",
       "7746      1765      6033  create_order  10:33:02 2022-08-28      1   \n",
       "9783      1765      6033  create_order  10:33:02 2022-08-28      1   \n",
       "10969     1765      6033  create_order  10:33:02 2022-08-28      1   \n",
       "11316     1765      6033  create_order  10:33:02 2022-08-28      1   \n",
       "\n",
       "            creation_time  product_id                    name  price  \n",
       "44    2022-08-27 10:07:44          75          сок ананасовый  120.0  \n",
       "1411  2022-08-27 10:07:44          34                макароны   98.0  \n",
       "3509  2022-08-27 10:07:44          30  энергетический напиток  140.0  \n",
       "5181  2022-08-27 10:07:44          25        кофе растворимый  150.0  \n",
       "5970  2022-08-27 10:07:44          65                  бананы  100.0  \n",
       "9145  2022-08-27 10:07:44          27   чай травяной листовой  120.6  \n",
       "11764 2022-08-27 10:07:44          32                 овсянка   55.0  \n",
       "14067 2022-08-27 10:07:44          44                мармелад   60.0  \n",
       "175   2022-08-28 10:33:02          22         сок мультифрукт  120.0  \n",
       "3988  2022-08-28 10:33:02          69         морс клюквенный  175.3  \n",
       "4357  2022-08-28 10:33:02          33          шоколад черный   60.0  \n",
       "7461  2022-08-28 10:33:02          57                 свинина  450.3  \n",
       "7746  2022-08-28 10:33:02          46                 печенье   45.5  \n",
       "9783  2022-08-28 10:33:02          58                     рис   70.0  \n",
       "10969 2022-08-28 10:33:02          18                  кетчуп   58.0  \n",
       "11316 2022-08-28 10:33:02           1                   сахар  150.0  "
      ]
     },
     "execution_count": 51,
     "metadata": {},
     "output_type": "execute_result"
    }
   ],
   "source": [
    "# Товары которые были куплены в этих двух заказах\n",
    "all_df.query(\"order_id in [3465, 6033]\").sort_values('order_id')"
   ]
  },
  {
   "cell_type": "markdown",
   "metadata": {},
   "source": [
    "### Статистические тесты"
   ]
  },
  {
   "cell_type": "markdown",
   "metadata": {},
   "source": [
    "#### Проверка нормальности распределения данных при помощи **pg.normality**  \n",
    "\n",
    "**<u>Определю гипотезы:</u>**  \n",
    "* H0: значения из колонки total распределены нормально  \n",
    "* H1: распределение значений из колонки total является ненормальным"
   ]
  },
  {
   "cell_type": "code",
   "execution_count": 52,
   "metadata": {},
   "outputs": [
    {
     "data": {
      "text/html": [
       "<div>\n",
       "<style scoped>\n",
       "    .dataframe tbody tr th:only-of-type {\n",
       "        vertical-align: middle;\n",
       "    }\n",
       "\n",
       "    .dataframe tbody tr th {\n",
       "        vertical-align: top;\n",
       "    }\n",
       "\n",
       "    .dataframe thead th {\n",
       "        text-align: right;\n",
       "    }\n",
       "</style>\n",
       "<table border=\"1\" class=\"dataframe\">\n",
       "  <thead>\n",
       "    <tr style=\"text-align: right;\">\n",
       "      <th></th>\n",
       "      <th>W</th>\n",
       "      <th>pval</th>\n",
       "      <th>normal</th>\n",
       "    </tr>\n",
       "    <tr>\n",
       "      <th>group</th>\n",
       "      <th></th>\n",
       "      <th></th>\n",
       "      <th></th>\n",
       "    </tr>\n",
       "  </thead>\n",
       "  <tbody>\n",
       "    <tr>\n",
       "      <th>0</th>\n",
       "      <td>32.778944</td>\n",
       "      <td>7.623294e-08</td>\n",
       "      <td>False</td>\n",
       "    </tr>\n",
       "    <tr>\n",
       "      <th>1</th>\n",
       "      <td>40.524590</td>\n",
       "      <td>1.585612e-09</td>\n",
       "      <td>False</td>\n",
       "    </tr>\n",
       "  </tbody>\n",
       "</table>\n",
       "</div>"
      ],
      "text/plain": [
       "               W          pval  normal\n",
       "group                                 \n",
       "0      32.778944  7.623294e-08   False\n",
       "1      40.524590  1.585612e-09   False"
      ]
     },
     "execution_count": 52,
     "metadata": {},
     "output_type": "execute_result"
    }
   ],
   "source": [
    "pg.normality(data=test_2, dv='total', group='group', method='normaltest')"
   ]
  },
  {
   "cell_type": "markdown",
   "metadata": {},
   "source": [
    "**Вывод:**  \n",
    "Значения p-value в обеих группах меньше альфа-уровня (0.05). Это означает, что у меня нет достаточных оснований, что бы принять H0.<br>\n",
    "**Принимаю H1**, распределение значений из колонки total является ненормальным."
   ]
  },
  {
   "cell_type": "markdown",
   "metadata": {},
   "source": [
    "#### Проверка данных на нормальность и гомогенность (гомоскедастичность) дисперсии \n",
    "\n",
    "Для проверки равенства дисперсий в группах воспользуюсь тестом Левина, т.к. его рекомендуется использовать при ненормальном распределении.  \n",
    "\n",
    "**<u>Определю гипотезы:</u>**  \n",
    "* H0: дисперсии между группами равны\n",
    "* H1: дисперсии между группами не равны"
   ]
  },
  {
   "cell_type": "code",
   "execution_count": 53,
   "metadata": {},
   "outputs": [
    {
     "name": "stdout",
     "output_type": "stream",
     "text": [
      "\u001b[1m Данные имеют тяжелый хвост (p-value: 0.0) \u001b[0m\n"
     ]
    }
   ],
   "source": [
    "# Воспользуюсь функцией check_tail_heaviness для определения типа хвоста (тяжелый/легкий) \n",
    "check_tail_heaviness(test_2['total'])"
   ]
  },
  {
   "cell_type": "code",
   "execution_count": 54,
   "metadata": {},
   "outputs": [
    {
     "name": "stdout",
     "output_type": "stream",
     "text": [
      "\u001b[1mВывод: \n",
      "Статистика = 3.07, p-value = 0.07996065743516913.\n",
      "Это означает, что у меня не имеется достаточных оснований, чтобы сказать, что дисперсии не равны. Поскольку p-value больше 0.05, принимаю H0. \u001b[0m\n"
     ]
    }
   ],
   "source": [
    "# Сравню дисперсии тестом Левина. Параметр center='trimmed' — рекомендуется для распределений с тяжелыми хвостами\n",
    "test_stat, pvalue = st.levene(test_2[test_2.group == 0].total, test_2[test_2.group == 1].total, center='trimmed')\n",
    "if pvalue > 0.05:\n",
    "    print(f\"\\033[1mВывод: \\nСтатистика = {round(test_stat, 2)}, p-value = {pvalue}.\\nЭто означает, что у меня не имеется достаточных оснований, чтобы сказать, что дисперсии не равны. Поскольку p-value больше 0.05, принимаю H0. \\033[0m\")\n",
    "else:\n",
    "    print(f\"\\033[1mВывод: \\nСтатистика = {round(test_stat, 2)}, p-value = {pvalue}.\\nЭто означает, что у меня имеется достаточно оснований, чтобы сказать, что дисперсии не равны. Поскольку p-value меньше 0.05, принимаю H1.\\033[0m\")"
   ]
  },
  {
   "cell_type": "markdown",
   "metadata": {},
   "source": [
    "### Итог по результатам статистических тестов и визуальной проверки\n",
    "Исходя из предварительного анализа, результатов теста на нормальность и гомогенность дисперсий можно использовать классический t-test (t-критерий Стьюдента), т.к. данный тест может быть использован для сравнения средних при ненормальном распределении, особенно на больших выборках. Для теста необходимо соблюдение гомогенности дисперсий."
   ]
  },
  {
   "cell_type": "markdown",
   "metadata": {},
   "source": [
    "### T-test\n",
    "<b>Тип данных:</b> количественные, дискретные.<br>\n",
    "<b>Целевая метрика:</b> среднее количество уникальных товаров в заказе<br>\n",
    "\n",
    "**<u>Определю гипотезы:</u>**\n",
    "* H0 - между контрольной и экспериментальной группой нет никакой статистически значимой разницы в среднем количестве уникальных товаров в заказе<br>\n",
    "* H1 - наблюдаемый эффект это результат внедрения в приложение умной системы рекомендации товаров, разница статистически значима"
   ]
  },
  {
   "cell_type": "code",
   "execution_count": 55,
   "metadata": {},
   "outputs": [
    {
     "name": "stdout",
     "output_type": "stream",
     "text": [
      "\u001b[1m- статистика теста = -0.21\n",
      "- p-value = 0.8317594280160369\u001b[0m\n"
     ]
    }
   ],
   "source": [
    "test_stat, pvalue = st.ttest_ind(test_2[test_2.group == 0].total, test_2[test_2.group == 1].total)\n",
    "print(f\"\\033[1m- статистика теста = {round(test_stat, 2)}\\n- p-value = {pvalue}\\033[0m\")"
   ]
  },
  {
   "cell_type": "markdown",
   "metadata": {},
   "source": [
    "<b>Вывод:</b><br>\n",
    "P-value больше альфа-уровня (0.05). Таким образом у меня не имеется достаточных оснований, чтобы сказать, что значения в группах статистически значимо различаются. **Принимаю H0.**<br>\n",
    "Рекомендация товаров существенно не повлияла на среднее количество уникальных товаров в заказе. Среднее количество уникальных товаров в заказе между экспериментальной и контрольной группой статистически значимо не различается."
   ]
  },
  {
   "cell_type": "markdown",
   "metadata": {},
   "source": [
    "## Test #3 (среднее количество отмененных заказов)\n",
    "**Посмотрю на среднее количество отмененных заказов в разрезе по пользователям у каждой группы**  "
   ]
  },
  {
   "cell_type": "code",
   "execution_count": 56,
   "metadata": {},
   "outputs": [
    {
     "name": "stdout",
     "output_type": "stream",
     "text": [
      "       amount_mean\n",
      "group             \n",
      "0         1.078947\n",
      "1         1.168142\n",
      "\n",
      "\u001b[1mЕсть небольшие различия, у экспериментальной группы среднее количество отмененных заказов больше на 8.27 %. При помощи статистического теста определю статистически значимы эти различия или нет. \u001b[0m\n"
     ]
    }
   ],
   "source": [
    "avg_cancelled_orders = all_df.query(\"action == 'cancel_order'\") \\\n",
    "                             .groupby(['group', 'user_id'], as_index=False) \\\n",
    "                             .agg({'order_id': 'nunique'}) \\\n",
    "                             .rename(columns=({'order_id': 'amount'})) \\\n",
    "                             .groupby(['group']) \\\n",
    "                             .agg({'amount': 'mean'}) \\\n",
    "                             .rename(columns=({'amount': 'amount_mean'}))\n",
    "delta_percent = (avg_cancelled_orders['amount_mean'].max() / avg_cancelled_orders['amount_mean'].min()) * 100 - 100\n",
    "print(avg_cancelled_orders)\n",
    "print()\n",
    "print(f\"\\033[1mЕсть небольшие различия, у экспериментальной группы среднее количество отмененных заказов больше на {delta_percent:.2f} %. При помощи статистического теста определю статистически значимы эти различия или нет. \\033[0m\")"
   ]
  },
  {
   "cell_type": "code",
   "execution_count": 57,
   "metadata": {},
   "outputs": [
    {
     "name": "stdout",
     "output_type": "stream",
     "text": [
      "\u001b[1m total — количество отмененных заказов \u001b[1m\n"
     ]
    },
    {
     "data": {
      "text/html": [
       "<div>\n",
       "<style scoped>\n",
       "    .dataframe tbody tr th:only-of-type {\n",
       "        vertical-align: middle;\n",
       "    }\n",
       "\n",
       "    .dataframe tbody tr th {\n",
       "        vertical-align: top;\n",
       "    }\n",
       "\n",
       "    .dataframe thead th {\n",
       "        text-align: right;\n",
       "    }\n",
       "</style>\n",
       "<table border=\"1\" class=\"dataframe\">\n",
       "  <thead>\n",
       "    <tr style=\"text-align: right;\">\n",
       "      <th></th>\n",
       "      <th>group</th>\n",
       "      <th>user_id</th>\n",
       "      <th>total</th>\n",
       "    </tr>\n",
       "  </thead>\n",
       "  <tbody>\n",
       "    <tr>\n",
       "      <th>0</th>\n",
       "      <td>0</td>\n",
       "      <td>966</td>\n",
       "      <td>1</td>\n",
       "    </tr>\n",
       "    <tr>\n",
       "      <th>1</th>\n",
       "      <td>0</td>\n",
       "      <td>993</td>\n",
       "      <td>1</td>\n",
       "    </tr>\n",
       "    <tr>\n",
       "      <th>2</th>\n",
       "      <td>0</td>\n",
       "      <td>995</td>\n",
       "      <td>1</td>\n",
       "    </tr>\n",
       "  </tbody>\n",
       "</table>\n",
       "</div>"
      ],
      "text/plain": [
       "   group  user_id  total\n",
       "0      0      966      1\n",
       "1      0      993      1\n",
       "2      0      995      1"
      ]
     },
     "execution_count": 57,
     "metadata": {},
     "output_type": "execute_result"
    }
   ],
   "source": [
    "# Подготовлю датафрейм для проведения теста\n",
    "test_3 = all_df.query(\"action == 'cancel_order'\") \\\n",
    "               .groupby(['group', 'user_id'], as_index=False) \\\n",
    "               .agg({'order_id': 'nunique'}) \\\n",
    "               .rename(columns=({'order_id': 'total'}))\n",
    "print(\"\\033[1m total — количество отмененных заказов \\033[1m\")\n",
    "test_3.head(3)"
   ]
  },
  {
   "cell_type": "markdown",
   "metadata": {},
   "source": [
    "### Визуальная проверка"
   ]
  },
  {
   "cell_type": "code",
   "execution_count": 58,
   "metadata": {},
   "outputs": [
    {
     "name": "stdout",
     "output_type": "stream",
     "text": [
      "\u001b[1mВариативность количества отмененных заказов небольшая. Значения total распределены несимметрично.\u001b[0m\n"
     ]
    },
    {
     "data": {
      "image/png": "[encoded data removed]",
      "text/plain": [
       "<Figure size 640x480 with 1 Axes>"
      ]
     },
     "metadata": {},
     "output_type": "display_data"
    }
   ],
   "source": [
    "# Посмотрю как распределены значения из колонки total\n",
    "sns.countplot(x='total', data=test_3)\n",
    "\n",
    "# Добавлю название гистограмме и ее осям\n",
    "plt.title('Распределение отмененных заказов')\n",
    "plt.xlabel('Количество отмен одним пользователем')\n",
    "plt.ylabel('Количество пользователей')\n",
    "\n",
    "print(\"\\033[1mВариативность количества отмененных заказов небольшая. Значения total распределены несимметрично.\\033[0m\")"
   ]
  },
  {
   "cell_type": "code",
   "execution_count": 59,
   "metadata": {},
   "outputs": [
    {
     "data": {
      "image/png": "[encoded data removed]",
      "text/plain": [
       "<Figure size 640x480 with 1 Axes>"
      ]
     },
     "metadata": {},
     "output_type": "display_data"
    }
   ],
   "source": [
    "# При помощи kdeplot посмотрю на плотность распределения значений для каждой группы\n",
    "sns.kdeplot(x='total', data=test_3, hue='group', common_norm=False);\n",
    "plt.title(\"Kernel Density Function\");\n",
    "plt.show()"
   ]
  },
  {
   "cell_type": "code",
   "execution_count": 60,
   "metadata": {},
   "outputs": [
    {
     "name": "stdout",
     "output_type": "stream",
     "text": [
      "       amount\n",
      "group        \n",
      "0          76\n",
      "1         113\n",
      "\u001b[1mРазница между группами 48.68 %, группы ощутимо различаются по количеству наблюдений. \u001b[0m\n"
     ]
    }
   ],
   "source": [
    "# Посмотрю на количество уникальных user_id в каждой группе, для того что бы понять равны группы между собой или нет\n",
    "number_user_id = test_3.groupby(['group']) \\\n",
    "                       .agg({'user_id': 'nunique'}) \\\n",
    "                       .rename(columns=({'user_id': 'amount'}))\n",
    "delta_percent = (number_user_id['amount'].max() / number_user_id['amount'].min()) * 100 - 100\n",
    "print(number_user_id)\n",
    "print(f\"\\033[1mРазница между группами {delta_percent:.2f} %, группы ощутимо различаются по количеству наблюдений. \\033[0m\")"
   ]
  },
  {
   "cell_type": "markdown",
   "metadata": {},
   "source": [
    "### Статистические тесты"
   ]
  },
  {
   "cell_type": "markdown",
   "metadata": {},
   "source": [
    "#### Проверка нормальности распределения данных при помощи **pg.normality**  \n",
    "\n",
    "**<u>Определю гипотезы:</u>**  \n",
    "* H0: значения из колонки total распределены нормально  \n",
    "* H1: распределение значений из колонки total является ненормальным"
   ]
  },
  {
   "cell_type": "code",
   "execution_count": 61,
   "metadata": {},
   "outputs": [
    {
     "data": {
      "text/html": [
       "<div>\n",
       "<style scoped>\n",
       "    .dataframe tbody tr th:only-of-type {\n",
       "        vertical-align: middle;\n",
       "    }\n",
       "\n",
       "    .dataframe tbody tr th {\n",
       "        vertical-align: top;\n",
       "    }\n",
       "\n",
       "    .dataframe thead th {\n",
       "        text-align: right;\n",
       "    }\n",
       "</style>\n",
       "<table border=\"1\" class=\"dataframe\">\n",
       "  <thead>\n",
       "    <tr style=\"text-align: right;\">\n",
       "      <th></th>\n",
       "      <th>W</th>\n",
       "      <th>pval</th>\n",
       "      <th>normal</th>\n",
       "    </tr>\n",
       "    <tr>\n",
       "      <th>group</th>\n",
       "      <th></th>\n",
       "      <th></th>\n",
       "      <th></th>\n",
       "    </tr>\n",
       "  </thead>\n",
       "  <tbody>\n",
       "    <tr>\n",
       "      <th>0</th>\n",
       "      <td>69.857481</td>\n",
       "      <td>6.770813e-16</td>\n",
       "      <td>False</td>\n",
       "    </tr>\n",
       "    <tr>\n",
       "      <th>1</th>\n",
       "      <td>61.435658</td>\n",
       "      <td>4.564744e-14</td>\n",
       "      <td>False</td>\n",
       "    </tr>\n",
       "  </tbody>\n",
       "</table>\n",
       "</div>"
      ],
      "text/plain": [
       "               W          pval  normal\n",
       "group                                 \n",
       "0      69.857481  6.770813e-16   False\n",
       "1      61.435658  4.564744e-14   False"
      ]
     },
     "execution_count": 61,
     "metadata": {},
     "output_type": "execute_result"
    }
   ],
   "source": [
    "pg.normality(data=test_3, dv='total', group='group', method='normaltest')"
   ]
  },
  {
   "cell_type": "markdown",
   "metadata": {},
   "source": [
    "**Вывод:**  \n",
    "Значения p-value в обеих группах меньше альфа-уровня (0.05). Это означает, что у меня нет достаточных оснований, что бы принять H0.<br>\n",
    "**Принимаю H1**, распределение значений из колонки total является ненормальным."
   ]
  },
  {
   "cell_type": "markdown",
   "metadata": {},
   "source": [
    "#### Проверка данных на нормальность и гомогенность (гомоскедастичность) дисперсии \n",
    "\n",
    "Для проверки равенства дисперсий в группах воспользуюсь тестом Левина, т.к. его рекомендуется использовать при ненормальном распределении.  \n",
    "\n",
    "**<u>Определю гипотезы:</u>**  \n",
    "* H0: дисперсии между группами равны\n",
    "* H1: дисперсии между группами не равны"
   ]
  },
  {
   "cell_type": "code",
   "execution_count": 62,
   "metadata": {},
   "outputs": [
    {
     "name": "stdout",
     "output_type": "stream",
     "text": [
      "\u001b[1m Данные имеют тяжелый хвост (p-value: 7.146283617261706e-151) \u001b[0m\n"
     ]
    }
   ],
   "source": [
    "# Воспользуюсь функцией check_tail_heaviness для определения типа хвоста (тяжелый/легкий) \n",
    "check_tail_heaviness(test_3['total'])"
   ]
  },
  {
   "cell_type": "code",
   "execution_count": 63,
   "metadata": {},
   "outputs": [
    {
     "name": "stdout",
     "output_type": "stream",
     "text": [
      "\u001b[1mВывод: \n",
      "Статистика = 15.63, p-value = 0.00011246887191707234.\n",
      "Это означает, что у меня имеется достаточно оснований, чтобы сказать, что дисперсии не равны. Поскольку p-value меньше 0.05, принимаю H1.\u001b[0m\n"
     ]
    }
   ],
   "source": [
    "# Сравню дисперсии тестом Левина. Параметр center='trimmed' — рекомендуется для распределений с тяжелыми хвостами\n",
    "test_stat, pvalue = st.levene(test_3[test_3.group == 0].total, test_3[test_3.group == 1].total, center='trimmed')\n",
    "if pvalue > 0.05:\n",
    "    print(f\"\\033[1mВывод: \\nСтатистика = {round(test_stat, 2)}, p-value = {pvalue}.\\nЭто означает, что у меня не имеется достаточных оснований, чтобы сказать, что дисперсии не равны. Поскольку p-value больше 0.05, принимаю H0. \\033[0m\")\n",
    "else:\n",
    "    print(f\"\\033[1mВывод: \\nСтатистика = {round(test_stat, 2)}, p-value = {pvalue}.\\nЭто означает, что у меня имеется достаточно оснований, чтобы сказать, что дисперсии не равны. Поскольку p-value меньше 0.05, принимаю H1.\\033[0m\")"
   ]
  },
  {
   "cell_type": "markdown",
   "metadata": {},
   "source": [
    "### Итог по результатам статистических тестов и визуальной проверки\n",
    "Исходя из предварительного анализа, результатов теста на нормальность и гомогенность дисперсий можно использовать t-test с поправкой Уэлча, применяется в случае неравных дисперсий. Особенно поправка важна, если размеры двух выборок сильно различаются. В остальном все как у обычного т-теста — если выборки большие, нормальность становится не так уж важна (в силу разных теорем, в том числе ЦПТ)."
   ]
  },
  {
   "cell_type": "markdown",
   "metadata": {},
   "source": [
    "### Welch’s t-test\n",
    "<b>Тип данных:</b> количественные, дискретные.<br>\n",
    "<b>Целевая метрика:</b> среднее количество отмененных заказов<br>\n",
    "\n",
    "**<u>Определю гипотезы:</u>**\n",
    "* H0 - между контрольной и экспериментальной группой нет никакой статистически значимой разницы в среднем количестве отмененных заказов<br>\n",
    "* H1 -наблюдаемый эффект это результат внедрения в приложение умной системы рекомендации товаров, разница статистически значима"
   ]
  },
  {
   "cell_type": "code",
   "execution_count": 64,
   "metadata": {},
   "outputs": [
    {
     "data": {
      "text/plain": [
       "TtestResult(statistic=-1.8296891493675829, pvalue=0.06888907857362961, df=186.96279984261517)"
      ]
     },
     "execution_count": 64,
     "metadata": {},
     "output_type": "execute_result"
    }
   ],
   "source": [
    "st.ttest_ind(test_3[test_3.group == 0].total, test_3[test_3.group == 1].total, equal_var = False)"
   ]
  },
  {
   "cell_type": "markdown",
   "metadata": {},
   "source": [
    "<b>Вывод:</b><br>\n",
    "P-value больше альфа-уровня (0.05). Таким образом у меня не имеется достаточных оснований, чтобы сказать, что значения в группах статистически значимо различаются. **Принимаю H0.**<br>\n",
    "Рекомендация товаров существенно не повлияла на среднее количество отмененных заказов. Среднее количество отмененных заказов между экспериментальной и контрольной группой статистически значимо не различается."
   ]
  },
  {
   "cell_type": "markdown",
   "metadata": {},
   "source": [
    "## Test #4 (среднее количество заказов на пользователя)\n",
    "**Посмотрю на среднее количество заказов (не считая отмененные) на пользователя в каждой группе**  "
   ]
  },
  {
   "cell_type": "code",
   "execution_count": 65,
   "metadata": {},
   "outputs": [
    {
     "name": "stdout",
     "output_type": "stream",
     "text": [
      "       avg_number_of_orders\n",
      "group                      \n",
      "0                      2.98\n",
      "1                      4.75\n",
      "\n",
      "\u001b[1mЕсть различия, у тестовой группы среднее количество заказов на пользователя больще на 59.40 %. При помощи статистического теста определю статистически значимы эти различия или нет. \u001b[0m\n"
     ]
    }
   ],
   "source": [
    "test_4 = not_cancel_ordrs_df.groupby(['user_id', 'group'], as_index=False) \\\n",
    "                            .agg({'order_id': 'nunique'}) \\\n",
    "                            .groupby(['group']) \\\n",
    "                            .agg({'order_id': 'mean'}) \\\n",
    "                            .round(2) \\\n",
    "                            .rename(columns=({'order_id': 'avg_number_of_orders'}))\n",
    "delta_percent = (test_4['avg_number_of_orders'].max() / test_4['avg_number_of_orders'].min()) * 100 - 100\n",
    "print(test_4)\n",
    "print()\n",
    "print(f\"\\033[1mЕсть различия, у тестовой группы среднее количество заказов на пользователя больще на {delta_percent:.2f} %. При помощи статистического теста определю статистически значимы эти различия или нет. \\033[0m\")"
   ]
  },
  {
   "cell_type": "code",
   "execution_count": 66,
   "metadata": {},
   "outputs": [
    {
     "data": {
      "text/html": [
       "<div>\n",
       "<style scoped>\n",
       "    .dataframe tbody tr th:only-of-type {\n",
       "        vertical-align: middle;\n",
       "    }\n",
       "\n",
       "    .dataframe tbody tr th {\n",
       "        vertical-align: top;\n",
       "    }\n",
       "\n",
       "    .dataframe thead th {\n",
       "        text-align: right;\n",
       "    }\n",
       "</style>\n",
       "<table border=\"1\" class=\"dataframe\">\n",
       "  <thead>\n",
       "    <tr style=\"text-align: right;\">\n",
       "      <th></th>\n",
       "      <th>user_id</th>\n",
       "      <th>group</th>\n",
       "      <th>amount</th>\n",
       "    </tr>\n",
       "  </thead>\n",
       "  <tbody>\n",
       "    <tr>\n",
       "      <th>0</th>\n",
       "      <td>964</td>\n",
       "      <td>0</td>\n",
       "      <td>2</td>\n",
       "    </tr>\n",
       "    <tr>\n",
       "      <th>1</th>\n",
       "      <td>965</td>\n",
       "      <td>1</td>\n",
       "      <td>9</td>\n",
       "    </tr>\n",
       "    <tr>\n",
       "      <th>2</th>\n",
       "      <td>967</td>\n",
       "      <td>1</td>\n",
       "      <td>5</td>\n",
       "    </tr>\n",
       "  </tbody>\n",
       "</table>\n",
       "</div>"
      ],
      "text/plain": [
       "   user_id  group  amount\n",
       "0      964      0       2\n",
       "1      965      1       9\n",
       "2      967      1       5"
      ]
     },
     "execution_count": 66,
     "metadata": {},
     "output_type": "execute_result"
    }
   ],
   "source": [
    "# Подготовлю датафрейм для проведения теста\n",
    "test_4 = not_cancel_ordrs_df.groupby(['user_id', 'group'], as_index=False) \\\n",
    "                            .agg({'order_id': 'nunique'}) \\\n",
    "                            .rename(columns=({'order_id': 'amount'}))\n",
    "test_4.head(3)"
   ]
  },
  {
   "cell_type": "markdown",
   "metadata": {},
   "source": [
    "### Визуальная проверка"
   ]
  },
  {
   "cell_type": "code",
   "execution_count": 67,
   "metadata": {},
   "outputs": [
    {
     "data": {
      "image/png": "[encoded data removed]",
      "text/plain": [
       "<Figure size 1200x600 with 1 Axes>"
      ]
     },
     "metadata": {},
     "output_type": "display_data"
    },
    {
     "name": "stdout",
     "output_type": "stream",
     "text": [
      "\u001b[1mЗначения отдаленно напоминают нормальное распределение с большим хвостом справа \u001b[0m\n"
     ]
    }
   ],
   "source": [
    "# Посмотрю как распределены значения из колонки amount\n",
    "sns.displot(data=test_4, x=\"amount\", kde=True, height= 6, aspect= 2, bins=13)\n",
    "# Добавлю название гистограмме и ее осям\n",
    "plt.title('Распределение количества заказов')\n",
    "plt.xlabel('заказы, шт.')\n",
    "plt.ylabel('пользователи')\n",
    "plt.show()\n",
    "\n",
    "print(\"\\033[1mЗначения отдаленно напоминают нормальное распределение с большим хвостом справа \\033[0m\")"
   ]
  },
  {
   "cell_type": "code",
   "execution_count": 68,
   "metadata": {},
   "outputs": [
    {
     "data": {
      "image/png": "[encoded data removed]",
      "text/plain": [
       "<Figure size 640x480 with 1 Axes>"
      ]
     },
     "metadata": {},
     "output_type": "display_data"
    }
   ],
   "source": [
    "# При помощи kdeplot посмотрю на плотность распределения значений для каждой группы\n",
    "sns.kdeplot(x='amount', data=test_4, hue='group', common_norm=False);\n",
    "plt.title(\"Kernel Density Function\");\n",
    "plt.show()"
   ]
  },
  {
   "cell_type": "code",
   "execution_count": 69,
   "metadata": {},
   "outputs": [
    {
     "data": {
      "image/png": "[encoded data removed]",
      "text/plain": [
       "<Figure size 640x480 with 1 Axes>"
      ]
     },
     "metadata": {},
     "output_type": "display_data"
    },
    {
     "name": "stdout",
     "output_type": "stream",
     "text": [
      "\u001b[1mВ контрольной группе имеется больше выбросов, максимальное значение = 13, относится к user_id 1170. \u001b[0m\n",
      "\u001b[1mВ экспериментальной группе выбросов меньше, максимальное значение = 12, относится к user_id 1537 и 1583. \u001b[0m\n",
      "\u001b[1mВ общем и целом видно, что в экспериментальной группе количество заказов на пользователя больше чем в контрольной группе. \u001b[0m\n"
     ]
    }
   ],
   "source": [
    "# Разделю на отдельные группы\n",
    "data0 = test_4[test_4.group == 0]['amount'].values  # контрольная группа\n",
    "data1 = test_4[test_4.group == 1]['amount'].values  # экспериментальная группа\n",
    "\n",
    "# Создание боксплота\n",
    "fig, ax = plt.subplots()\n",
    "bp = ax.boxplot([data0, data1], patch_artist=True)\n",
    "\n",
    "# Добавлю название гистограмме и ее осям\n",
    "plt.title('Распределение количества заказов на пользователя')\n",
    "plt.xlabel('Группа')\n",
    "plt.ylabel('Заказы, шт.')\n",
    "\n",
    "# Подпись значений квартилей, усов и выбросов для каждой группы\n",
    "for i, group_data in enumerate([data0, data1], start=0):\n",
    "    \n",
    "    quartiles = np.percentile(group_data, [25, 50, 75])\n",
    "    \n",
    "    # Подписи квартилей\n",
    "    for q in quartiles:\n",
    "        ax.annotate(f'{q:.0f}', xy=(i + 1.075, q), xytext=(i + 1.2, q),\n",
    "                    arrowprops=dict(arrowstyle='->', color='black'),\n",
    "                    fontsize=10, color='black')\n",
    "\n",
    "    # Подписи усов и самых максимальных выбросов\n",
    "    max_val = np.max(group_data)\n",
    "    if max_val != upper_whiskers:\n",
    "        ax.annotate(f'{max_val:.0f}', xy=(i + 1, max_val), xytext=(i + 1.2, max_val),\n",
    "                    arrowprops=dict(arrowstyle='->', color='black'),\n",
    "                    fontsize=10, color='black')\n",
    "\n",
    "    lower_whiskers =  bp['whiskers'][2 * i].get_ydata()[1]\n",
    "    upper_whiskers = bp['whiskers'][2 * i + 1].get_ydata()[1]     \n",
    "    ax.annotate(f'{lower_whiskers:.0f}', xy=(i + 1.035, lower_whiskers), xytext=(i + 1.2, lower_whiskers),\n",
    "            arrowprops=dict(arrowstyle='->', color='black'),\n",
    "            fontsize=10, color='black')\n",
    "    ax.annotate(f'{upper_whiskers:.0f}', xy=(i + 1.035, upper_whiskers), xytext=(i + 1.2, upper_whiskers),\n",
    "            arrowprops=dict(arrowstyle='->', color='black'),\n",
    "            fontsize=10, color='black')\n",
    "\n",
    "# Настройка меток осей\n",
    "ax.set_xticklabels(['0 — контрольная', '1 — экспериментальная'])\n",
    "plt.show()\n",
    "\n",
    "print(\"\\033[1mВ контрольной группе имеется больше выбросов, максимальное значение = 13, относится к user_id 1170. \\033[0m\")\n",
    "print(\"\\033[1mВ экспериментальной группе выбросов меньше, максимальное значение = 12, относится к user_id 1537 и 1583. \\033[0m\")\n",
    "print(\"\\033[1mВ общем и целом видно, что в экспериментальной группе количество заказов на пользователя больше чем в контрольной группе. \\033[0m\")"
   ]
  },
  {
   "cell_type": "code",
   "execution_count": 70,
   "metadata": {},
   "outputs": [
    {
     "data": {
      "text/html": [
       "<div>\n",
       "<style scoped>\n",
       "    .dataframe tbody tr th:only-of-type {\n",
       "        vertical-align: middle;\n",
       "    }\n",
       "\n",
       "    .dataframe tbody tr th {\n",
       "        vertical-align: top;\n",
       "    }\n",
       "\n",
       "    .dataframe thead th {\n",
       "        text-align: right;\n",
       "    }\n",
       "</style>\n",
       "<table border=\"1\" class=\"dataframe\">\n",
       "  <thead>\n",
       "    <tr style=\"text-align: right;\">\n",
       "      <th></th>\n",
       "      <th>user_id</th>\n",
       "      <th>group</th>\n",
       "      <th>amount</th>\n",
       "    </tr>\n",
       "  </thead>\n",
       "  <tbody>\n",
       "    <tr>\n",
       "      <th>204</th>\n",
       "      <td>1170</td>\n",
       "      <td>0</td>\n",
       "      <td>13</td>\n",
       "    </tr>\n",
       "  </tbody>\n",
       "</table>\n",
       "</div>"
      ],
      "text/plain": [
       "     user_id  group  amount\n",
       "204     1170      0      13"
      ]
     },
     "execution_count": 70,
     "metadata": {},
     "output_type": "execute_result"
    }
   ],
   "source": [
    "# Контрольная группа, user_id со значением amount == 13\n",
    "test_4.query(\"group == 0 and amount == 13\")"
   ]
  },
  {
   "cell_type": "code",
   "execution_count": 71,
   "metadata": {},
   "outputs": [
    {
     "data": {
      "text/html": [
       "<div>\n",
       "<style scoped>\n",
       "    .dataframe tbody tr th:only-of-type {\n",
       "        vertical-align: middle;\n",
       "    }\n",
       "\n",
       "    .dataframe tbody tr th {\n",
       "        vertical-align: top;\n",
       "    }\n",
       "\n",
       "    .dataframe thead th {\n",
       "        text-align: right;\n",
       "    }\n",
       "</style>\n",
       "<table border=\"1\" class=\"dataframe\">\n",
       "  <thead>\n",
       "    <tr style=\"text-align: right;\">\n",
       "      <th></th>\n",
       "      <th>order_id</th>\n",
       "      <th>number_of_positions</th>\n",
       "    </tr>\n",
       "  </thead>\n",
       "  <tbody>\n",
       "    <tr>\n",
       "      <th>0</th>\n",
       "      <td>1542</td>\n",
       "      <td>5</td>\n",
       "    </tr>\n",
       "    <tr>\n",
       "      <th>1</th>\n",
       "      <td>1779</td>\n",
       "      <td>3</td>\n",
       "    </tr>\n",
       "    <tr>\n",
       "      <th>2</th>\n",
       "      <td>2727</td>\n",
       "      <td>1</td>\n",
       "    </tr>\n",
       "    <tr>\n",
       "      <th>3</th>\n",
       "      <td>3149</td>\n",
       "      <td>3</td>\n",
       "    </tr>\n",
       "    <tr>\n",
       "      <th>4</th>\n",
       "      <td>3153</td>\n",
       "      <td>4</td>\n",
       "    </tr>\n",
       "    <tr>\n",
       "      <th>5</th>\n",
       "      <td>9826</td>\n",
       "      <td>3</td>\n",
       "    </tr>\n",
       "    <tr>\n",
       "      <th>6</th>\n",
       "      <td>19971</td>\n",
       "      <td>3</td>\n",
       "    </tr>\n",
       "    <tr>\n",
       "      <th>7</th>\n",
       "      <td>21652</td>\n",
       "      <td>2</td>\n",
       "    </tr>\n",
       "    <tr>\n",
       "      <th>8</th>\n",
       "      <td>21736</td>\n",
       "      <td>3</td>\n",
       "    </tr>\n",
       "    <tr>\n",
       "      <th>9</th>\n",
       "      <td>30094</td>\n",
       "      <td>5</td>\n",
       "    </tr>\n",
       "    <tr>\n",
       "      <th>10</th>\n",
       "      <td>34548</td>\n",
       "      <td>5</td>\n",
       "    </tr>\n",
       "    <tr>\n",
       "      <th>11</th>\n",
       "      <td>42285</td>\n",
       "      <td>3</td>\n",
       "    </tr>\n",
       "    <tr>\n",
       "      <th>12</th>\n",
       "      <td>43911</td>\n",
       "      <td>3</td>\n",
       "    </tr>\n",
       "  </tbody>\n",
       "</table>\n",
       "</div>"
      ],
      "text/plain": [
       "    order_id  number_of_positions\n",
       "0       1542                    5\n",
       "1       1779                    3\n",
       "2       2727                    1\n",
       "3       3149                    3\n",
       "4       3153                    4\n",
       "5       9826                    3\n",
       "6      19971                    3\n",
       "7      21652                    2\n",
       "8      21736                    3\n",
       "9      30094                    5\n",
       "10     34548                    5\n",
       "11     42285                    3\n",
       "12     43911                    3"
      ]
     },
     "execution_count": 71,
     "metadata": {},
     "output_type": "execute_result"
    }
   ],
   "source": [
    "# order_id и количество товаров в каждом заказе для пользователя 1170\n",
    "all_df.query(\"user_id == 1170\") \\\n",
    "      .groupby(['order_id'], as_index=False) \\\n",
    "      .agg({'user_id': 'count'}) \\\n",
    "      .rename(columns=({'user_id': 'number_of_positions'})) \\\n",
    "      .sort_values('order_id')"
   ]
  },
  {
   "cell_type": "code",
   "execution_count": 72,
   "metadata": {},
   "outputs": [
    {
     "data": {
      "text/html": [
       "<div>\n",
       "<style scoped>\n",
       "    .dataframe tbody tr th:only-of-type {\n",
       "        vertical-align: middle;\n",
       "    }\n",
       "\n",
       "    .dataframe tbody tr th {\n",
       "        vertical-align: top;\n",
       "    }\n",
       "\n",
       "    .dataframe thead th {\n",
       "        text-align: right;\n",
       "    }\n",
       "</style>\n",
       "<table border=\"1\" class=\"dataframe\">\n",
       "  <thead>\n",
       "    <tr style=\"text-align: right;\">\n",
       "      <th></th>\n",
       "      <th>user_id</th>\n",
       "      <th>group</th>\n",
       "      <th>amount</th>\n",
       "    </tr>\n",
       "  </thead>\n",
       "  <tbody>\n",
       "    <tr>\n",
       "      <th>570</th>\n",
       "      <td>1537</td>\n",
       "      <td>1</td>\n",
       "      <td>12</td>\n",
       "    </tr>\n",
       "    <tr>\n",
       "      <th>616</th>\n",
       "      <td>1583</td>\n",
       "      <td>1</td>\n",
       "      <td>12</td>\n",
       "    </tr>\n",
       "  </tbody>\n",
       "</table>\n",
       "</div>"
      ],
      "text/plain": [
       "     user_id  group  amount\n",
       "570     1537      1      12\n",
       "616     1583      1      12"
      ]
     },
     "execution_count": 72,
     "metadata": {},
     "output_type": "execute_result"
    }
   ],
   "source": [
    "# экспериментальная группа, user_id со значением amount == 12\n",
    "test_4.query(\"group == 1 and amount == 12\")"
   ]
  },
  {
   "cell_type": "code",
   "execution_count": 73,
   "metadata": {},
   "outputs": [
    {
     "data": {
      "text/html": [
       "<div>\n",
       "<style scoped>\n",
       "    .dataframe tbody tr th:only-of-type {\n",
       "        vertical-align: middle;\n",
       "    }\n",
       "\n",
       "    .dataframe tbody tr th {\n",
       "        vertical-align: top;\n",
       "    }\n",
       "\n",
       "    .dataframe thead th {\n",
       "        text-align: right;\n",
       "    }\n",
       "</style>\n",
       "<table border=\"1\" class=\"dataframe\">\n",
       "  <thead>\n",
       "    <tr style=\"text-align: right;\">\n",
       "      <th></th>\n",
       "      <th>order_id</th>\n",
       "      <th>user_id</th>\n",
       "      <th>number_of_positions</th>\n",
       "    </tr>\n",
       "  </thead>\n",
       "  <tbody>\n",
       "    <tr>\n",
       "      <th>0</th>\n",
       "      <td>2052</td>\n",
       "      <td>1537</td>\n",
       "      <td>4</td>\n",
       "    </tr>\n",
       "    <tr>\n",
       "      <th>3</th>\n",
       "      <td>4293</td>\n",
       "      <td>1537</td>\n",
       "      <td>2</td>\n",
       "    </tr>\n",
       "    <tr>\n",
       "      <th>4</th>\n",
       "      <td>4589</td>\n",
       "      <td>1537</td>\n",
       "      <td>4</td>\n",
       "    </tr>\n",
       "    <tr>\n",
       "      <th>5</th>\n",
       "      <td>7496</td>\n",
       "      <td>1537</td>\n",
       "      <td>2</td>\n",
       "    </tr>\n",
       "    <tr>\n",
       "      <th>10</th>\n",
       "      <td>16619</td>\n",
       "      <td>1537</td>\n",
       "      <td>2</td>\n",
       "    </tr>\n",
       "    <tr>\n",
       "      <th>15</th>\n",
       "      <td>39379</td>\n",
       "      <td>1537</td>\n",
       "      <td>2</td>\n",
       "    </tr>\n",
       "    <tr>\n",
       "      <th>16</th>\n",
       "      <td>39390</td>\n",
       "      <td>1537</td>\n",
       "      <td>3</td>\n",
       "    </tr>\n",
       "    <tr>\n",
       "      <th>17</th>\n",
       "      <td>39874</td>\n",
       "      <td>1537</td>\n",
       "      <td>3</td>\n",
       "    </tr>\n",
       "    <tr>\n",
       "      <th>18</th>\n",
       "      <td>40377</td>\n",
       "      <td>1537</td>\n",
       "      <td>1</td>\n",
       "    </tr>\n",
       "    <tr>\n",
       "      <th>20</th>\n",
       "      <td>53390</td>\n",
       "      <td>1537</td>\n",
       "      <td>2</td>\n",
       "    </tr>\n",
       "    <tr>\n",
       "      <th>21</th>\n",
       "      <td>53414</td>\n",
       "      <td>1537</td>\n",
       "      <td>5</td>\n",
       "    </tr>\n",
       "    <tr>\n",
       "      <th>22</th>\n",
       "      <td>53417</td>\n",
       "      <td>1537</td>\n",
       "      <td>3</td>\n",
       "    </tr>\n",
       "    <tr>\n",
       "      <th>1</th>\n",
       "      <td>2117</td>\n",
       "      <td>1583</td>\n",
       "      <td>3</td>\n",
       "    </tr>\n",
       "    <tr>\n",
       "      <th>2</th>\n",
       "      <td>3230</td>\n",
       "      <td>1583</td>\n",
       "      <td>5</td>\n",
       "    </tr>\n",
       "    <tr>\n",
       "      <th>6</th>\n",
       "      <td>8634</td>\n",
       "      <td>1583</td>\n",
       "      <td>4</td>\n",
       "    </tr>\n",
       "    <tr>\n",
       "      <th>7</th>\n",
       "      <td>8780</td>\n",
       "      <td>1583</td>\n",
       "      <td>6</td>\n",
       "    </tr>\n",
       "    <tr>\n",
       "      <th>8</th>\n",
       "      <td>10198</td>\n",
       "      <td>1583</td>\n",
       "      <td>4</td>\n",
       "    </tr>\n",
       "    <tr>\n",
       "      <th>9</th>\n",
       "      <td>10201</td>\n",
       "      <td>1583</td>\n",
       "      <td>2</td>\n",
       "    </tr>\n",
       "    <tr>\n",
       "      <th>11</th>\n",
       "      <td>17710</td>\n",
       "      <td>1583</td>\n",
       "      <td>2</td>\n",
       "    </tr>\n",
       "    <tr>\n",
       "      <th>12</th>\n",
       "      <td>23286</td>\n",
       "      <td>1583</td>\n",
       "      <td>6</td>\n",
       "    </tr>\n",
       "    <tr>\n",
       "      <th>13</th>\n",
       "      <td>23291</td>\n",
       "      <td>1583</td>\n",
       "      <td>3</td>\n",
       "    </tr>\n",
       "    <tr>\n",
       "      <th>14</th>\n",
       "      <td>26077</td>\n",
       "      <td>1583</td>\n",
       "      <td>1</td>\n",
       "    </tr>\n",
       "    <tr>\n",
       "      <th>19</th>\n",
       "      <td>42352</td>\n",
       "      <td>1583</td>\n",
       "      <td>5</td>\n",
       "    </tr>\n",
       "    <tr>\n",
       "      <th>23</th>\n",
       "      <td>57999</td>\n",
       "      <td>1583</td>\n",
       "      <td>3</td>\n",
       "    </tr>\n",
       "  </tbody>\n",
       "</table>\n",
       "</div>"
      ],
      "text/plain": [
       "    order_id  user_id  number_of_positions\n",
       "0       2052     1537                    4\n",
       "3       4293     1537                    2\n",
       "4       4589     1537                    4\n",
       "5       7496     1537                    2\n",
       "10     16619     1537                    2\n",
       "15     39379     1537                    2\n",
       "16     39390     1537                    3\n",
       "17     39874     1537                    3\n",
       "18     40377     1537                    1\n",
       "20     53390     1537                    2\n",
       "21     53414     1537                    5\n",
       "22     53417     1537                    3\n",
       "1       2117     1583                    3\n",
       "2       3230     1583                    5\n",
       "6       8634     1583                    4\n",
       "7       8780     1583                    6\n",
       "8      10198     1583                    4\n",
       "9      10201     1583                    2\n",
       "11     17710     1583                    2\n",
       "12     23286     1583                    6\n",
       "13     23291     1583                    3\n",
       "14     26077     1583                    1\n",
       "19     42352     1583                    5\n",
       "23     57999     1583                    3"
      ]
     },
     "execution_count": 73,
     "metadata": {},
     "output_type": "execute_result"
    }
   ],
   "source": [
    "# order_id и количество товаров в каждом заказе для пользователей 1537 и 1583\n",
    "all_df.query(\"user_id in [1537, 1583]\") \\\n",
    "      .groupby(['order_id', 'user_id'], as_index=False) \\\n",
    "      .agg({'product_id': 'count'}) \\\n",
    "      .rename(columns=({'product_id': 'number_of_positions'})) \\\n",
    "      .sort_values(['user_id', 'order_id'])"
   ]
  },
  {
   "cell_type": "markdown",
   "metadata": {},
   "source": [
    "### Статистические тесты"
   ]
  },
  {
   "cell_type": "markdown",
   "metadata": {},
   "source": [
    "#### Проверка нормальности распределения данных при помощи **pg.normality**  \n",
    "\n",
    "**<u>Определю гипотезы:</u>**  \n",
    "* H0: значения из колонки amount распределены нормально  \n",
    "* H1: распределение значений из колонки amount является ненормальным"
   ]
  },
  {
   "cell_type": "code",
   "execution_count": 74,
   "metadata": {},
   "outputs": [
    {
     "data": {
      "text/html": [
       "<div>\n",
       "<style scoped>\n",
       "    .dataframe tbody tr th:only-of-type {\n",
       "        vertical-align: middle;\n",
       "    }\n",
       "\n",
       "    .dataframe tbody tr th {\n",
       "        vertical-align: top;\n",
       "    }\n",
       "\n",
       "    .dataframe thead th {\n",
       "        text-align: right;\n",
       "    }\n",
       "</style>\n",
       "<table border=\"1\" class=\"dataframe\">\n",
       "  <thead>\n",
       "    <tr style=\"text-align: right;\">\n",
       "      <th></th>\n",
       "      <th>W</th>\n",
       "      <th>pval</th>\n",
       "      <th>normal</th>\n",
       "    </tr>\n",
       "    <tr>\n",
       "      <th>group</th>\n",
       "      <th></th>\n",
       "      <th></th>\n",
       "      <th></th>\n",
       "    </tr>\n",
       "  </thead>\n",
       "  <tbody>\n",
       "    <tr>\n",
       "      <th>0</th>\n",
       "      <td>178.266627</td>\n",
       "      <td>1.949368e-39</td>\n",
       "      <td>False</td>\n",
       "    </tr>\n",
       "    <tr>\n",
       "      <th>1</th>\n",
       "      <td>17.210719</td>\n",
       "      <td>1.831217e-04</td>\n",
       "      <td>False</td>\n",
       "    </tr>\n",
       "  </tbody>\n",
       "</table>\n",
       "</div>"
      ],
      "text/plain": [
       "                W          pval  normal\n",
       "group                                  \n",
       "0      178.266627  1.949368e-39   False\n",
       "1       17.210719  1.831217e-04   False"
      ]
     },
     "execution_count": 74,
     "metadata": {},
     "output_type": "execute_result"
    }
   ],
   "source": [
    "pg.normality(data=test_4, dv='amount', group='group', method='normaltest')"
   ]
  },
  {
   "cell_type": "markdown",
   "metadata": {},
   "source": [
    "**Вывод:**  \n",
    "Значения p-value в обеих группах меньше альфа-уровня (0.05). Это означает, что у меня нет достаточных оснований, что бы принять H0.<br>\n",
    "**Принимаю H1**, распределение значений из колонки amount является ненормальным."
   ]
  },
  {
   "cell_type": "markdown",
   "metadata": {},
   "source": [
    "#### Проверка данных на нормальность и гомогенность (гомоскедастичность) дисперсии \n",
    "\n",
    "Для проверки равенства дисперсий в группах воспользуюсь тестом Левина, т.к. его рекомендуется использовать при ненормальном распределении.  \n",
    "\n",
    "**<u>Определю гипотезы:</u>**  \n",
    "* H0: дисперсии между группами равны\n",
    "* H1: дисперсии между группами не равны"
   ]
  },
  {
   "cell_type": "code",
   "execution_count": 75,
   "metadata": {},
   "outputs": [
    {
     "name": "stdout",
     "output_type": "stream",
     "text": [
      "\u001b[1m Данные имеют тяжелый хвост (p-value: 0.0) \u001b[0m\n"
     ]
    }
   ],
   "source": [
    "# Воспользуюсь функцией check_tail_heaviness для определения типа хвоста (тяжелый/легкий) \n",
    "check_tail_heaviness(test_4['amount'])"
   ]
  },
  {
   "cell_type": "code",
   "execution_count": 76,
   "metadata": {},
   "outputs": [
    {
     "name": "stdout",
     "output_type": "stream",
     "text": [
      "\u001b[1mВывод: \n",
      "Статистика = 28.87, p-value = 9.812203329089464e-08.\n",
      "Это означает, что у меня имеется достаточно оснований, чтобы сказать, что дисперсии не равны. Поскольку p-value меньше 0.05, принимаю H1.\u001b[0m\n"
     ]
    }
   ],
   "source": [
    "# Сравню дисперсии тестом Левина. Параметр center='trimmed' — рекомендуется для распределений с тяжелыми хвостами\n",
    "test_stat, pvalue = st.levene(test_4[test_4.group == 0].amount, test_4[test_4.group == 1].amount, center='trimmed')\n",
    "if pvalue > 0.05:\n",
    "    print(f\"\\033[1mВывод: \\nСтатистика = {round(test_stat, 2)}, p-value = {pvalue}.\\nЭто означает, что у меня не имеется достаточных оснований, чтобы сказать, что дисперсии не равны. Поскольку p-value больше 0.05, принимаю H0. \\033[0m\")\n",
    "else:\n",
    "    print(f\"\\033[1mВывод: \\nСтатистика = {round(test_stat, 2)}, p-value = {pvalue}.\\nЭто означает, что у меня имеется достаточно оснований, чтобы сказать, что дисперсии не равны. Поскольку p-value меньше 0.05, принимаю H1.\\033[0m\")"
   ]
  },
  {
   "cell_type": "code",
   "execution_count": 77,
   "metadata": {},
   "outputs": [
    {
     "name": "stdout",
     "output_type": "stream",
     "text": [
      "       amount\n",
      "group        \n",
      "0         512\n",
      "1         501\n",
      "\n",
      "\u001b[1mКоличество значений в контрольной группе на 2.20 % больше чем в экспериментальной группе. Разница небольшая, группы можно считать равными по количеству наблюдений. \u001b[0m\n"
     ]
    }
   ],
   "source": [
    "# Посмотрю на количество значений в каждой группе\n",
    "number_user_id = test_4.groupby(['group']) \\\n",
    "                       .agg({'user_id': 'nunique'}) \\\n",
    "                       .rename(columns=({'user_id': 'amount'}))\n",
    "delta_percent = (number_user_id['amount'].max() / number_user_id['amount'].min()) * 100 - 100\n",
    "print(number_user_id)\n",
    "print()\n",
    "print(f\"\\033[1mКоличество значений в контрольной группе на {delta_percent:.2f} % больше чем в экспериментальной группе. Разница небольшая, группы можно считать равными по количеству наблюдений. \\033[0m\")"
   ]
  },
  {
   "cell_type": "markdown",
   "metadata": {},
   "source": [
    "### Итог по результатам статистических тестов и визуальной проверки\n",
    "Исходя из предварительного анализа, результатов теста на нормальность и гомогенность дисперсий можно использовать t-test с поправкой Уэлча, применяется в случае неравных дисперсий. Особенно поправка важна, если размеры двух выборок сильно различаются. В остальном все как у обычного т-теста — если выборки большие, нормальность становится не так уж важна (в силу разных теорем, в том числе ЦПТ)."
   ]
  },
  {
   "cell_type": "markdown",
   "metadata": {},
   "source": [
    "### Welch’s t-test\n",
    "<b>Тип данных:</b> количественные, дискретные.<br>\n",
    "<b>Целевая метрика:</b> среднее количество заказов на пользователя<br>\n",
    "\n",
    "**<u>Определю гипотезы:</u>**\n",
    "* H0 - между контрольной экспериментальной группой нет никакой статистически значимой разницы в среднем количестве заказов на пользователя<br>\n",
    "* H1 - наблюдаемый эффект это результат внедрения в приложение умной системы рекомендации товаров, разница статистически значима"
   ]
  },
  {
   "cell_type": "code",
   "execution_count": 78,
   "metadata": {},
   "outputs": [
    {
     "data": {
      "text/plain": [
       "TtestResult(statistic=-13.974169980221783, pvalue=1.2374101233656574e-40, df=989.8228352282781)"
      ]
     },
     "execution_count": 78,
     "metadata": {},
     "output_type": "execute_result"
    }
   ],
   "source": [
    "st.ttest_ind(test_4[test_4.group == 0].amount, test_4[test_4.group == 1].amount, equal_var = False)"
   ]
  },
  {
   "cell_type": "markdown",
   "metadata": {},
   "source": [
    "<b>Вывод:</b><br>\n",
    "P-value меньше альфа-уровня (0.05). Таким образом у меня имеется достаточно оснований что бы отвергнуть H0 и **принять H1**. Делаю вывод, что разница между средним количеством заказов на пользователя в каждой группе статистически значима и является результатом внедрения в приложение умной системы рекомендации товаров."
   ]
  },
  {
   "cell_type": "markdown",
   "metadata": {},
   "source": [
    "# Целевая метрика"
   ]
  },
  {
   "cell_type": "markdown",
   "metadata": {},
   "source": [
    "## Test #5 (средняя выручка на пользователя в каждой группе)  \n",
    "**Посмотрю на среднюю выручку в разрезе по пользователям в каждой группе** "
   ]
  },
  {
   "cell_type": "code",
   "execution_count": 79,
   "metadata": {},
   "outputs": [
    {
     "name": "stdout",
     "output_type": "stream",
     "text": [
      "       avg_revenue\n",
      "group             \n",
      "0          1139.56\n",
      "1          1753.75\n",
      "\n",
      "\u001b[1mЕсть различия, у экспериментальной группы средняя выручка на пользователя больще на 53.9 %. При помощи статистического теста определю статистически значимы эти различия или нет. \u001b[0m\n"
     ]
    }
   ],
   "source": [
    "test_5 = not_cancel_ordrs_df.groupby(['user_id', 'group'], as_index=False) \\\n",
    "                            .agg({'price': 'sum'}) \\\n",
    "                            .groupby(['group']) \\\n",
    "                            .agg({'price': 'mean'}) \\\n",
    "                            .round(2) \\\n",
    "                            .rename(columns=({'price': 'avg_revenue'}))\n",
    "delta_percent = (test_5['avg_revenue'].max() / test_5['avg_revenue'].min()) * 100 - 100\n",
    "print(test_5)\n",
    "print()\n",
    "print(f\"\\033[1mЕсть различия, у экспериментальной группы средняя выручка на пользователя больще на {delta_percent:.1f} %. При помощи статистического теста определю статистически значимы эти различия или нет. \\033[0m\")"
   ]
  },
  {
   "cell_type": "code",
   "execution_count": 80,
   "metadata": {},
   "outputs": [
    {
     "name": "stdout",
     "output_type": "stream",
     "text": [
      "\u001b[1m total —  суммарная выручка на пользователя \u001b[1m\n"
     ]
    },
    {
     "data": {
      "text/html": [
       "<div>\n",
       "<style scoped>\n",
       "    .dataframe tbody tr th:only-of-type {\n",
       "        vertical-align: middle;\n",
       "    }\n",
       "\n",
       "    .dataframe tbody tr th {\n",
       "        vertical-align: top;\n",
       "    }\n",
       "\n",
       "    .dataframe thead th {\n",
       "        text-align: right;\n",
       "    }\n",
       "</style>\n",
       "<table border=\"1\" class=\"dataframe\">\n",
       "  <thead>\n",
       "    <tr style=\"text-align: right;\">\n",
       "      <th></th>\n",
       "      <th>user_id</th>\n",
       "      <th>group</th>\n",
       "      <th>total</th>\n",
       "    </tr>\n",
       "  </thead>\n",
       "  <tbody>\n",
       "    <tr>\n",
       "      <th>0</th>\n",
       "      <td>964</td>\n",
       "      <td>0</td>\n",
       "      <td>718.9</td>\n",
       "    </tr>\n",
       "    <tr>\n",
       "      <th>1</th>\n",
       "      <td>965</td>\n",
       "      <td>1</td>\n",
       "      <td>4155.5</td>\n",
       "    </tr>\n",
       "    <tr>\n",
       "      <th>2</th>\n",
       "      <td>967</td>\n",
       "      <td>1</td>\n",
       "      <td>1137.4</td>\n",
       "    </tr>\n",
       "  </tbody>\n",
       "</table>\n",
       "</div>"
      ],
      "text/plain": [
       "   user_id  group   total\n",
       "0      964      0   718.9\n",
       "1      965      1  4155.5\n",
       "2      967      1  1137.4"
      ]
     },
     "execution_count": 80,
     "metadata": {},
     "output_type": "execute_result"
    }
   ],
   "source": [
    "# Подготовлю датафрейм для проведения теста. Суммарная выручка по каждому пользователю\n",
    "test_5 = not_cancel_ordrs_df.groupby(['user_id', 'group'], as_index=False) \\\n",
    "                            .agg({'price': 'sum'}) \\\n",
    "                            .rename(columns=({'price': 'total'}))\n",
    "print(\"\\033[1m total —  суммарная выручка на пользователя \\033[1m\")\n",
    "test_5.head(3)"
   ]
  },
  {
   "cell_type": "markdown",
   "metadata": {},
   "source": [
    "### Визуальная проверка"
   ]
  },
  {
   "cell_type": "code",
   "execution_count": 81,
   "metadata": {},
   "outputs": [
    {
     "data": {
      "image/png": "[encoded data removed]",
      "text/plain": [
       "<Figure size 1200x600 with 1 Axes>"
      ]
     },
     "metadata": {},
     "output_type": "display_data"
    },
    {
     "name": "stdout",
     "output_type": "stream",
     "text": [
      "\u001b[1m Значения распределены относительно симметрично, но с большим хвостом справа \u001b[0m\n"
     ]
    }
   ],
   "source": [
    "# Посмотрю как распределены значения из колонки total\n",
    "sns.displot(data=test_5, x=\"total\", kde=True, height= 6, aspect= 2)\n",
    "# Добавлю название гистограмме и ее осям\n",
    "plt.title('Распределение суммарной выручки по каждому пользователю')\n",
    "plt.xlabel('сумма')\n",
    "plt.ylabel('количество пользователей')\n",
    "plt.show()\n",
    "\n",
    "print(\"\\033[1m Значения распределены относительно симметрично, но с большим хвостом справа \\033[0m\")"
   ]
  },
  {
   "cell_type": "code",
   "execution_count": 82,
   "metadata": {},
   "outputs": [
    {
     "name": "stdout",
     "output_type": "stream",
     "text": [
      "\u001b[1m total_log — прологарифмированная выручка на пользователя \u001b[1m\n"
     ]
    },
    {
     "data": {
      "text/html": [
       "<div>\n",
       "<style scoped>\n",
       "    .dataframe tbody tr th:only-of-type {\n",
       "        vertical-align: middle;\n",
       "    }\n",
       "\n",
       "    .dataframe tbody tr th {\n",
       "        vertical-align: top;\n",
       "    }\n",
       "\n",
       "    .dataframe thead th {\n",
       "        text-align: right;\n",
       "    }\n",
       "</style>\n",
       "<table border=\"1\" class=\"dataframe\">\n",
       "  <thead>\n",
       "    <tr style=\"text-align: right;\">\n",
       "      <th></th>\n",
       "      <th>user_id</th>\n",
       "      <th>group</th>\n",
       "      <th>total</th>\n",
       "      <th>total_log</th>\n",
       "    </tr>\n",
       "  </thead>\n",
       "  <tbody>\n",
       "    <tr>\n",
       "      <th>0</th>\n",
       "      <td>964</td>\n",
       "      <td>0</td>\n",
       "      <td>718.9</td>\n",
       "      <td>6.577722</td>\n",
       "    </tr>\n",
       "    <tr>\n",
       "      <th>1</th>\n",
       "      <td>965</td>\n",
       "      <td>1</td>\n",
       "      <td>4155.5</td>\n",
       "      <td>8.332188</td>\n",
       "    </tr>\n",
       "    <tr>\n",
       "      <th>2</th>\n",
       "      <td>967</td>\n",
       "      <td>1</td>\n",
       "      <td>1137.4</td>\n",
       "      <td>7.036500</td>\n",
       "    </tr>\n",
       "  </tbody>\n",
       "</table>\n",
       "</div>"
      ],
      "text/plain": [
       "   user_id  group   total  total_log\n",
       "0      964      0   718.9   6.577722\n",
       "1      965      1  4155.5   8.332188\n",
       "2      967      1  1137.4   7.036500"
      ]
     },
     "execution_count": 82,
     "metadata": {},
     "output_type": "execute_result"
    }
   ],
   "source": [
    "# Добавлю колонку с прологарифмированными значениями, что бы сделать распределения более симметричными\n",
    "test_5['total_log'] = np.log(test_5.total)\n",
    "\n",
    "print(\"\\033[1m total_log — прологарифмированная выручка на пользователя \\033[1m\")\n",
    "test_5.head(3)"
   ]
  },
  {
   "cell_type": "code",
   "execution_count": 83,
   "metadata": {},
   "outputs": [
    {
     "data": {
      "image/png": "[encoded data removed]",
      "text/plain": [
       "<Figure size 1200x600 with 1 Axes>"
      ]
     },
     "metadata": {},
     "output_type": "display_data"
    },
    {
     "name": "stdout",
     "output_type": "stream",
     "text": [
      "\u001b[1mРаспределение имеет более симметричный вид, в отличие от непрологарифмированных значений. Имеется ощутимый хвост слева. Дальше в тесте буду работать со значениями из total_log.  \u001b[0m\n"
     ]
    }
   ],
   "source": [
    "# Посмотрю на прологарифмированные значения из колонки total_log\n",
    "sns.displot(data=test_5, x=\"total_log\", kde=True, height= 6, aspect= 2)\n",
    "\n",
    "# Добавлю название гистограмме и ее осям\n",
    "plt.title('Распределение прологарифмированной выручки по каждому пользователю')\n",
    "plt.xlabel('сумма, log')\n",
    "plt.ylabel('количество пользователей')\n",
    "plt.show()\n",
    "\n",
    "print(\"\\033[1mРаспределение имеет более симметричный вид, в отличие от непрологарифмированных значений. Имеется ощутимый хвост слева. Дальше в тесте буду работать со значениями из total_log.  \\033[0m\")"
   ]
  },
  {
   "cell_type": "code",
   "execution_count": 84,
   "metadata": {},
   "outputs": [
    {
     "data": {
      "image/png": "[encoded data removed]",
      "text/plain": [
       "<Figure size 640x480 with 1 Axes>"
      ]
     },
     "metadata": {},
     "output_type": "display_data"
    }
   ],
   "source": [
    "# При помощи kdeplot посмотрю на плотность распределения значений для каждой группы\n",
    "sns.kdeplot(x='total_log', data=test_5, hue='group', common_norm=False);\n",
    "plt.title(\"Kernel Density Function\");\n",
    "plt.show()"
   ]
  },
  {
   "cell_type": "code",
   "execution_count": 85,
   "metadata": {},
   "outputs": [
    {
     "data": {
      "image/png": "[encoded data removed]",
      "text/plain": [
       "<Figure size 640x480 with 1 Axes>"
      ]
     },
     "metadata": {},
     "output_type": "display_data"
    },
    {
     "name": "stdout",
     "output_type": "stream",
     "text": [
      "\u001b[1mВидно, что в экспериментальной группе выручка по каждому пользователю больше чем в контрольной группе. \u001b[0m\n"
     ]
    }
   ],
   "source": [
    "# Разделю на отдельные группы\n",
    "data0 = test_5[test_5.group == 0]['total_log'].values  # контрольная группа\n",
    "data1 = test_5[test_5.group == 1]['total_log'].values  # экспериментальная группа\n",
    "\n",
    "# Создание боксплота\n",
    "fig, ax = plt.subplots()\n",
    "bp = ax.boxplot([data0, data1], patch_artist=True)\n",
    "\n",
    "# Добавлю название гистограмме и ее осям\n",
    "plt.title('Распределение прологарифмированной выручки по каждому пользователю')\n",
    "plt.xlabel('Группа')\n",
    "plt.ylabel('сумма, log')\n",
    "\n",
    "# Подпись значений квартилей, усов и выбросов для каждой группы\n",
    "for i, group_data in enumerate([data0, data1], start=0):\n",
    "    \n",
    "    quartiles = np.percentile(group_data, [25, 50, 75])\n",
    "    \n",
    "    # Подписи квартилей (25, 50, 75)\n",
    "    for q in quartiles:\n",
    "        ax.annotate(f'{q:.2f}', xy=(i + 1.075, q), xytext=(i + 1.2, q),\n",
    "                    arrowprops=dict(arrowstyle='->', color='black'),\n",
    "                    fontsize=10, color='black')\n",
    "\n",
    "    \n",
    "    # Максимальное и минимальное значение в группе\n",
    "    max_val = np.max(group_data)\n",
    "    min_val = np.min(group_data)\n",
    "\n",
    "    # Значения усов (верхний и нижний)\n",
    "    lower_whiskers =  bp['whiskers'][2 * i].get_ydata()[1]\n",
    "    upper_whiskers = bp['whiskers'][2 * i + 1].get_ydata()[1]  \n",
    "    \n",
    "    # Подписи выбросов (максимальных и минимальных)\n",
    "    if max_val != upper_whiskers:\n",
    "        ax.annotate(f'{max_val:.2f}', xy=(i + 1, max_val), xytext=(i + 1.2, max_val),\n",
    "                    arrowprops=dict(arrowstyle='->', color='black'),\n",
    "                    fontsize=10, color='black')\n",
    "    if min_val != lower_whiskers:\n",
    "        ax.annotate(f'{min_val:.2f}', xy=(i + 1, min_val), xytext=(i + 1.2, min_val),\n",
    "                    arrowprops=dict(arrowstyle='->', color='black'),\n",
    "                    fontsize=10, color='black')    \n",
    "   \n",
    "    # Подписи усов (верхний и нижний)\n",
    "    ax.annotate(f'{lower_whiskers:.2f}', xy=(i + 1.035, lower_whiskers), xytext=(i + 1.2, lower_whiskers),\n",
    "            arrowprops=dict(arrowstyle='->', color='black'),\n",
    "            fontsize=10, color='black')\n",
    "    ax.annotate(f'{upper_whiskers:.2f}', xy=(i + 1.035, upper_whiskers), xytext=(i + 1.2, upper_whiskers),\n",
    "            arrowprops=dict(arrowstyle='->', color='black'),\n",
    "            fontsize=10, color='black')\n",
    "\n",
    "# Настройка меток осей\n",
    "ax.set_xticklabels(['0 — контрольная', '1 — экспериментальная'])\n",
    "plt.show()\n",
    "\n",
    "\n",
    "print(\"\\033[1mВидно, что в экспериментальной группе выручка по каждому пользователю больше чем в контрольной группе. \\033[0m\")"
   ]
  },
  {
   "cell_type": "markdown",
   "metadata": {},
   "source": [
    "### Статистические тесты"
   ]
  },
  {
   "cell_type": "markdown",
   "metadata": {},
   "source": [
    "#### Проверка нормальности распределения данных при помощи **pg.normality**  \n",
    "\n",
    "**<u>Определю гипотезы:</u>**  \n",
    "* H0: значения из колонки total_log распределены нормально  \n",
    "* H1: распределение значений из колонки total_log является ненормальным"
   ]
  },
  {
   "cell_type": "code",
   "execution_count": 86,
   "metadata": {},
   "outputs": [
    {
     "data": {
      "text/html": [
       "<div>\n",
       "<style scoped>\n",
       "    .dataframe tbody tr th:only-of-type {\n",
       "        vertical-align: middle;\n",
       "    }\n",
       "\n",
       "    .dataframe tbody tr th {\n",
       "        vertical-align: top;\n",
       "    }\n",
       "\n",
       "    .dataframe thead th {\n",
       "        text-align: right;\n",
       "    }\n",
       "</style>\n",
       "<table border=\"1\" class=\"dataframe\">\n",
       "  <thead>\n",
       "    <tr style=\"text-align: right;\">\n",
       "      <th></th>\n",
       "      <th>W</th>\n",
       "      <th>pval</th>\n",
       "      <th>normal</th>\n",
       "    </tr>\n",
       "    <tr>\n",
       "      <th>group</th>\n",
       "      <th></th>\n",
       "      <th></th>\n",
       "      <th></th>\n",
       "    </tr>\n",
       "  </thead>\n",
       "  <tbody>\n",
       "    <tr>\n",
       "      <th>0</th>\n",
       "      <td>58.302072</td>\n",
       "      <td>2.187086e-13</td>\n",
       "      <td>False</td>\n",
       "    </tr>\n",
       "    <tr>\n",
       "      <th>1</th>\n",
       "      <td>109.161585</td>\n",
       "      <td>1.976347e-24</td>\n",
       "      <td>False</td>\n",
       "    </tr>\n",
       "  </tbody>\n",
       "</table>\n",
       "</div>"
      ],
      "text/plain": [
       "                W          pval  normal\n",
       "group                                  \n",
       "0       58.302072  2.187086e-13   False\n",
       "1      109.161585  1.976347e-24   False"
      ]
     },
     "execution_count": 86,
     "metadata": {},
     "output_type": "execute_result"
    }
   ],
   "source": [
    "pg.normality(data=test_5, dv='total_log', group='group', method='normaltest')"
   ]
  },
  {
   "cell_type": "markdown",
   "metadata": {},
   "source": [
    "**Вывод:**  \n",
    "Значения p-value в обеих группах меньше альфа-уровня (0.05). Это означает, что нет достаточных оснований, что бы принять H0.<br>\n",
    "**Принимаю H1**, распределение значений из колонки total_log является ненормальным."
   ]
  },
  {
   "cell_type": "markdown",
   "metadata": {},
   "source": [
    "#### Проверка данных на нормальность и гомогенность (гомоскедастичность) дисперсии  \n",
    "\n",
    "Для проверки равенства дисперсий в группах воспользуюсь тестом Левина, т.к. его рекомендуется использовать при ненормальном распределении.  \n",
    "\n",
    "**<u>Определю гипотезы:</u>**  \n",
    "* H0: дисперсии между группами равны\n",
    "* H1: дисперсии между группами не равны"
   ]
  },
  {
   "cell_type": "code",
   "execution_count": 87,
   "metadata": {},
   "outputs": [
    {
     "name": "stdout",
     "output_type": "stream",
     "text": [
      "\u001b[1m Данные имеют тяжелый хвост (p-value: 0.0) \u001b[0m\n"
     ]
    }
   ],
   "source": [
    "# Воспользуюсь функцией check_tail_heaviness для определения типа хвоста (тяжелый/легкий) \n",
    "check_tail_heaviness(test_5['total_log'])"
   ]
  },
  {
   "cell_type": "code",
   "execution_count": 88,
   "metadata": {},
   "outputs": [
    {
     "name": "stdout",
     "output_type": "stream",
     "text": [
      "\u001b[1mВывод: \n",
      "Статистика = 17.4, p-value = 3.322419090123867e-05.\n",
      "Это означает, что у меня имеется достаточно оснований, чтобы сказать, что дисперсии не равны. Поскольку p-value меньше 0.05, принимаю H1.\u001b[0m\n"
     ]
    }
   ],
   "source": [
    "# Сравню дисперсии тестом Левина. Параметр center='trimmed' — рекомендуется для распределений с тяжелыми хвостами\n",
    "test_stat, pvalue = st.levene(test_5[test_5.group == 0].total_log, test_5[test_5.group == 1].total_log, center='trimmed')\n",
    "if pvalue > 0.05:\n",
    "    print(f\"\\033[1mВывод: \\nСтатистика = {round(test_stat, 2)}, p-value = {pvalue}.\\nЭто означает, что у меня не имеется достаточных оснований, чтобы сказать, что дисперсии не равны. Поскольку p-value больше 0.05, принимаю H0. \\033[0m\")\n",
    "else:\n",
    "    print(f\"\\033[1mВывод: \\nСтатистика = {round(test_stat, 2)}, p-value = {pvalue}.\\nЭто означает, что у меня имеется достаточно оснований, чтобы сказать, что дисперсии не равны. Поскольку p-value меньше 0.05, принимаю H1.\\033[0m\")"
   ]
  },
  {
   "cell_type": "code",
   "execution_count": 89,
   "metadata": {},
   "outputs": [
    {
     "name": "stdout",
     "output_type": "stream",
     "text": [
      "       amount\n",
      "group        \n",
      "0         512\n",
      "1         501\n",
      "\n",
      "\u001b[1mКоличество значений в контрольной группе на 2.20 % больше чем в экспериментальной группе. Разница небольшая, группы можно считать равными по количеству наблюдений. \u001b[0m\n"
     ]
    }
   ],
   "source": [
    "# Посмотрю на количество значений в каждой группе\n",
    "number_user_id = test_5.groupby(['group']) \\\n",
    "                       .agg({'user_id': 'nunique'}) \\\n",
    "                       .rename(columns=({'user_id': 'amount'}))\n",
    "delta_percent = (number_user_id['amount'].max() / number_user_id['amount'].min()) * 100 - 100\n",
    "print(number_user_id)\n",
    "print()\n",
    "print(f\"\\033[1mКоличество значений в контрольной группе на {delta_percent:.2f} % больше чем в экспериментальной группе. Разница небольшая, группы можно считать равными по количеству наблюдений. \\033[0m\")"
   ]
  },
  {
   "cell_type": "markdown",
   "metadata": {},
   "source": [
    "### Итог по результатам статистических тестов и визуальной проверки\n",
    "Исходя из предварительного анализа, результатов теста на нормальность и гомогенность дисперсий можно использовать t-test с поправкой Уэлча, применяется в случае неравных дисперсий. Особенно поправка важна, если размеры двух выборок сильно различаются. В остальном все как у обычного т-теста — если выборки большие, нормальность становится не так уж важна (в силу разных теорем, в том числе ЦПТ)."
   ]
  },
  {
   "cell_type": "markdown",
   "metadata": {},
   "source": [
    "### Welch’s t-test\n",
    "<b>Тип данных:</b> количественные, непрерывные.<br>\n",
    "<b>Целевая метрика:</b> среднее количество заказов на пользователя<br>\n",
    "\n",
    "**<u>Определю гипотезы:</u>**\n",
    "* H0 - между контрольной  и экспериментальной группой нет никакой статистически значимой разницы в среднем количестве заказов на пользователя<br>\n",
    "* H1 - наблюдаемый эффект это результат внедрения в приложение умной системы рекомендации товаров, разница статистически значима"
   ]
  },
  {
   "cell_type": "code",
   "execution_count": 90,
   "metadata": {},
   "outputs": [
    {
     "data": {
      "text/plain": [
       "TtestResult(statistic=-11.104581066109354, pvalue=4.408529873882794e-27, df=988.766906416109)"
      ]
     },
     "execution_count": 90,
     "metadata": {},
     "output_type": "execute_result"
    }
   ],
   "source": [
    "st.ttest_ind(test_5[test_5.group == 0].total_log, test_5[test_5.group == 1].total_log, equal_var = False)"
   ]
  },
  {
   "cell_type": "markdown",
   "metadata": {},
   "source": [
    "<b>Вывод:</b><br>\n",
    "P-value меньше альфа-уровня (0.05). Таким образом у меня имеется достаточно оснований, что бы отвергнуть H0 и **принять H1**. Делаю вывод, что разница между средней выручкой на пользователя в каждой группе статистически значима и является результатом внедрения в приложение умной системы рекомендации товаров."
   ]
  },
  {
   "cell_type": "markdown",
   "metadata": {},
   "source": [
    "# Заключение\n",
    "Следует раскатать новую систему рекомендаций на всех пользователей исходя из того, что выросло количество заказов на пользователя, а вместе с этим и средняя выручка."
   ]
  }
 ],
 "metadata": {
  "kernelspec": {
   "display_name": "Python 3 (ipykernel)",
   "language": "python",
   "name": "python3"
  },
  "language_info": {
   "codemirror_mode": {
    "name": "ipython",
    "version": 3
   },
   "file_extension": ".py",
   "mimetype": "text/x-python",
   "name": "python",
   "nbconvert_exporter": "python",
   "pygments_lexer": "ipython3",
   "version": "3.11.5"
  }
 },
 "nbformat": 4,
 "nbformat_minor": 4
}
